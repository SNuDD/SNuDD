{
 "cells": [
  {
   "cell_type": "code",
   "execution_count": 1,
   "id": "128fbfc4-2229-4d67-a981-d1f52fd1eac7",
   "metadata": {},
   "outputs": [],
   "source": [
    "import nudd\n",
    "from nudd import targets\n",
    "import numpy as np\n",
    "import matplotlib.pyplot as plt\n",
    "\n",
    "import copy"
   ]
  },
  {
   "cell_type": "code",
   "execution_count": 2,
   "id": "47e903ae-520a-443d-97ac-bd6cad941c0f",
   "metadata": {},
   "outputs": [],
   "source": [
    "from nudd import models"
   ]
  },
  {
   "cell_type": "code",
   "execution_count": 3,
   "id": "c937f77c-f501-4b1d-bce5-cf0449127e2a",
   "metadata": {},
   "outputs": [],
   "source": [
    "nucleus_xe = targets.Nucleus(54, 131, mass=nudd.config.mass_xe)\n"
   ]
  },
  {
   "cell_type": "code",
   "execution_count": 4,
   "id": "f0cc586a-356d-4530-909a-91fc893f3876",
   "metadata": {},
   "outputs": [],
   "source": [
    "E_Rs = np.logspace(-1, 1, 1000) / 1e6  # Division by 1e6 to convert to GeV\n"
   ]
  },
  {
   "cell_type": "code",
   "execution_count": 5,
   "id": "3f0dcf31-8277-4e80-9513-88e123b3fe6e",
   "metadata": {},
   "outputs": [],
   "source": [
    "eps = np.array([[1.0, 0.0, 0.0],[0.0, 100.0, 0.0],[0.0,0.0,1.0]])"
   ]
  },
  {
   "cell_type": "code",
   "execution_count": 6,
   "id": "b79d4b06-bbde-4d22-bdb3-ee53ad8048e4",
   "metadata": {
    "scrolled": true,
    "tags": []
   },
   "outputs": [
    {
     "ename": "AttributeError",
     "evalue": "'SpectrumCoherent' object has no attribute 'prepare_probabilities'",
     "output_type": "error",
     "traceback": [
      "\u001b[0;31m---------------------------------------------------------------------------\u001b[0m",
      "\u001b[0;31mAttributeError\u001b[0m                            Traceback (most recent call last)",
      "\u001b[0;32m/tmp/ipykernel_83169/80940293.py\u001b[0m in \u001b[0;36m<module>\u001b[0;34m\u001b[0m\n\u001b[1;32m      7\u001b[0m \u001b[0mnucleus_xe_nsi\u001b[0m\u001b[0;34m.\u001b[0m\u001b[0mmodel\u001b[0m \u001b[0;34m=\u001b[0m \u001b[0mnsi\u001b[0m\u001b[0;34m\u001b[0m\u001b[0;34m\u001b[0m\u001b[0m\n\u001b[1;32m      8\u001b[0m \u001b[0mnucleus_xe_nsi\u001b[0m\u001b[0;34m.\u001b[0m\u001b[0mupdate_model\u001b[0m\u001b[0;34m(\u001b[0m\u001b[0mnsi\u001b[0m\u001b[0;34m)\u001b[0m\u001b[0;34m\u001b[0m\u001b[0;34m\u001b[0m\u001b[0m\n\u001b[0;32m----> 9\u001b[0;31m \u001b[0mnucleus_xe_nsi\u001b[0m\u001b[0;34m.\u001b[0m\u001b[0mprepare_probabilities\u001b[0m\u001b[0;34m(\u001b[0m\u001b[0;34m)\u001b[0m  \u001b[0;31m# This is new!\u001b[0m\u001b[0;34m\u001b[0m\u001b[0;34m\u001b[0m\u001b[0m\n\u001b[0m\u001b[1;32m     10\u001b[0m \u001b[0mspectrum_nucleus_nsi_total\u001b[0m \u001b[0;34m=\u001b[0m \u001b[0mnucleus_xe_nsi\u001b[0m\u001b[0;34m.\u001b[0m\u001b[0mspectrum\u001b[0m\u001b[0;34m(\u001b[0m\u001b[0mE_Rs\u001b[0m\u001b[0;34m,\u001b[0m \u001b[0mnu\u001b[0m\u001b[0;34m=\u001b[0m\u001b[0;34m'8B'\u001b[0m\u001b[0;34m)\u001b[0m\u001b[0;34m\u001b[0m\u001b[0;34m\u001b[0m\u001b[0m\n",
      "\u001b[0;32m~/Documents/PhD/Projects/nudd/nudd/targets.py\u001b[0m in \u001b[0;36mprepare_probabilities\u001b[0;34m(self)\u001b[0m\n\u001b[1;32m     42\u001b[0m         \u001b[0;34m\"\"\"Prepare probabilities for use in spectrum.\"\"\"\u001b[0m\u001b[0;34m\u001b[0m\u001b[0;34m\u001b[0m\u001b[0m\n\u001b[1;32m     43\u001b[0m \u001b[0;34m\u001b[0m\u001b[0m\n\u001b[0;32m---> 44\u001b[0;31m         \u001b[0mself\u001b[0m\u001b[0;34m.\u001b[0m\u001b[0m_spec\u001b[0m\u001b[0;34m.\u001b[0m\u001b[0mprepare_probabilities\u001b[0m\u001b[0;34m(\u001b[0m\u001b[0;34m)\u001b[0m\u001b[0;34m\u001b[0m\u001b[0;34m\u001b[0m\u001b[0m\n\u001b[0m\u001b[1;32m     45\u001b[0m \u001b[0;34m\u001b[0m\u001b[0m\n\u001b[1;32m     46\u001b[0m \u001b[0;34m\u001b[0m\u001b[0m\n",
      "\u001b[0;31mAttributeError\u001b[0m: 'SpectrumCoherent' object has no attribute 'prepare_probabilities'"
     ]
    }
   ],
   "source": [
    "nsi = models.GeneralNSI(eps, eta=0., phi=0.)  # Try setting phi=np.pi/2 with eta=0.\n",
    "\n",
    "# And we proceed as before: copy the SM target, change the model, and generate the spectrum.\n",
    "\n",
    "# +\n",
    "nucleus_xe_nsi = copy.deepcopy(nucleus_xe)\n",
    "nucleus_xe_nsi.model = nsi\n",
    "nucleus_xe_nsi.update_model(nsi)\n",
    "nucleus_xe_nsi.prepare_probabilities()  # This is new!\n",
    "spectrum_nucleus_nsi_total = nucleus_xe_nsi.spectrum(E_Rs, nu='8B')"
   ]
  },
  {
   "cell_type": "code",
   "execution_count": 7,
   "id": "6a5c1731-6c46-4a5b-9e8e-e2717d412ef9",
   "metadata": {},
   "outputs": [
    {
     "data": {
      "text/plain": [
       "[<matplotlib.lines.Line2D at 0x7f8752c31580>]"
      ]
     },
     "execution_count": 7,
     "metadata": {},
     "output_type": "execute_result"
    },
    {
     "data": {
      "image/png": "[encoded data removed]",
      "text/plain": [
       "<Figure size 432x288 with 1 Axes>"
      ]
     },
     "metadata": {
      "needs_background": "light"
     },
     "output_type": "display_data"
    }
   ],
   "source": [
    "plt.loglog(E_Rs, spectrum_nucleus_nsi_total)\n"
   ]
  },
  {
   "cell_type": "code",
   "execution_count": 8,
   "id": "992772b6-3b80-43e2-9e70-800722688056",
   "metadata": {},
   "outputs": [
    {
     "name": "stdout",
     "output_type": "stream",
     "text": [
      "pp\n",
      "pp\n",
      "8B\n",
      "8B\n",
      "hep\n",
      "hep\n",
      "7Be_3\n",
      "7Be\n",
      "7Be_8\n",
      "7Be\n",
      "pep\n",
      "pep\n",
      "13N\n",
      "13N\n",
      "15O\n",
      "15O\n",
      "17F\n",
      "17F\n"
     ]
    }
   ],
   "source": [
    "import nuddnsi\n",
    "from nuddnsi import targets as targetsnsi\n",
    "from nuddnsi import models as modelsnsi\n",
    "from nuddnsi import spectrum as spnsi\n",
    "from nuddnsi import config as confignsi"
   ]
  },
  {
   "cell_type": "code",
   "execution_count": 9,
   "id": "5f1d89b3-b0d8-437e-806f-e7601826a019",
   "metadata": {
    "scrolled": true,
    "tags": []
   },
   "outputs": [],
   "source": [
    "nucleus_xensi = targetsnsi.Nucleus(54, 131, mass=nuddnsi.config.mass_xe)\n",
    "\n",
    "nsi_nsi = modelsnsi.GeneralNSI(eps, eta=0., phi=0.)  # Try setting phi=np.pi/2 with eta=0.\n",
    "\n",
    "# And we proceed as before: copy the SM target, change the model, and generate the spectrum.\n",
    "\n",
    "# +\n",
    "nucleus_xe_nsi_nsi = copy.deepcopy(nucleus_xensi)\n",
    "nucleus_xe_nsi_nsi.model = nsi_nsi\n",
    "\n",
    "nucleus_xe_nsi_nsi.update_model(nsi_nsi)\n",
    "nucleus_xe_nsi_nsi.prepare_density()\n",
    "\n",
    "spectrum_nucleus_nsi_total_nsi = nucleus_xe_nsi_nsi.spectrum(E_Rs, nu='8B')"
   ]
  },
  {
   "cell_type": "code",
   "execution_count": 10,
   "id": "9d44bfbd-1035-4e50-9e49-5f8bda031837",
   "metadata": {},
   "outputs": [
    {
     "name": "stderr",
     "output_type": "stream",
     "text": [
      "/home/acheek/miniconda3/lib/python3.9/site-packages/matplotlib/cbook/__init__.py:1298: ComplexWarning: Casting complex values to real discards the imaginary part\n",
      "  return np.asarray(x, float)\n"
     ]
    },
    {
     "data": {
      "text/plain": [
       "[<matplotlib.lines.Line2D at 0x7f8751ca8c10>]"
      ]
     },
     "execution_count": 10,
     "metadata": {},
     "output_type": "execute_result"
    },
    {
     "data": {
      "image/png": "[encoded data removed]",
      "text/plain": [
       "<Figure size 432x288 with 1 Axes>"
      ]
     },
     "metadata": {
      "needs_background": "light"
     },
     "output_type": "display_data"
    }
   ],
   "source": [
    "plt.loglog(E_Rs, spectrum_nucleus_nsi_total)\n",
    "\n",
    "plt.loglog(E_Rs, spectrum_nucleus_nsi_total_nsi)\n",
    "\n"
   ]
  },
  {
   "cell_type": "code",
   "execution_count": 11,
   "id": "154b9bd7-aeb0-4f17-9452-a17821ec552f",
   "metadata": {},
   "outputs": [
    {
     "name": "stderr",
     "output_type": "stream",
     "text": [
      "/tmp/ipykernel_3841/2728455542.py:1: RuntimeWarning: invalid value encountered in true_divide\n",
      "  plt.semilogx(E_Rs, (spectrum_nucleus_nsi_total - spectrum_nucleus_nsi_total_nsi)/spectrum_nucleus_nsi_total)\n",
      "/home/acheek/miniconda3/lib/python3.9/site-packages/matplotlib/cbook/__init__.py:1298: ComplexWarning: Casting complex values to real discards the imaginary part\n",
      "  return np.asarray(x, float)\n"
     ]
    },
    {
     "data": {
      "text/plain": [
       "[<matplotlib.lines.Line2D at 0x7f8751adf1f0>]"
      ]
     },
     "execution_count": 11,
     "metadata": {},
     "output_type": "execute_result"
    },
    {
     "data": {
      "image/png": "[encoded data removed]",
      "text/plain": [
       "<Figure size 432x288 with 1 Axes>"
      ]
     },
     "metadata": {
      "needs_background": "light"
     },
     "output_type": "display_data"
    }
   ],
   "source": [
    "plt.semilogx(E_Rs, (spectrum_nucleus_nsi_total - spectrum_nucleus_nsi_total_nsi)/spectrum_nucleus_nsi_total)\n"
   ]
  },
  {
   "cell_type": "code",
   "execution_count": 12,
   "id": "9726e666-5ff7-4adb-84b7-c04e35fa9a0e",
   "metadata": {
    "scrolled": true,
    "tags": []
   },
   "outputs": [
    {
     "name": "stderr",
     "output_type": "stream",
     "text": [
      "/tmp/ipykernel_3841/1158824829.py:1: RuntimeWarning: invalid value encountered in true_divide\n",
      "  spectrum_nucleus_nsi_total/spectrum_nucleus_nsi_total_nsi\n"
     ]
    },
    {
     "data": {
      "text/plain": [
       "array([ 1. +0.j,  1. +0.j,  1. +0.j,  1. +0.j,  1. +0.j,  1. +0.j,\n",
       "        1. +0.j,  1. +0.j,  1. +0.j,  1. +0.j,  1. +0.j,  1. +0.j,\n",
       "        1. +0.j,  1. +0.j,  1. +0.j,  1. +0.j,  1. +0.j,  1. +0.j,\n",
       "        1. +0.j,  1. +0.j,  1. +0.j,  1. +0.j,  1. +0.j,  1. +0.j,\n",
       "        1. +0.j,  1. +0.j,  1. +0.j,  1. +0.j,  1. +0.j,  1. +0.j,\n",
       "        1. +0.j,  1. +0.j,  1. +0.j,  1. +0.j,  1. +0.j,  1. +0.j,\n",
       "        1. +0.j,  1. +0.j,  1. +0.j,  1. +0.j,  1. +0.j,  1. +0.j,\n",
       "        1. +0.j,  1. +0.j,  1. +0.j,  1. +0.j,  1. +0.j,  1. +0.j,\n",
       "        1. +0.j,  1. +0.j,  1. +0.j,  1. +0.j,  1. +0.j,  1. +0.j,\n",
       "        1. +0.j,  1. +0.j,  1. +0.j,  1. +0.j,  1. +0.j,  1. +0.j,\n",
       "        1. +0.j,  1. +0.j,  1. +0.j,  1. +0.j,  1. +0.j,  1. +0.j,\n",
       "        1. +0.j,  1. +0.j,  1. +0.j,  1. +0.j,  1. +0.j,  1. +0.j,\n",
       "        1. +0.j,  1. +0.j,  1. +0.j,  1. +0.j,  1. +0.j,  1. +0.j,\n",
       "        1. +0.j,  1. +0.j,  1. +0.j,  1. +0.j,  1. +0.j,  1. +0.j,\n",
       "        1. +0.j,  1. +0.j,  1. +0.j,  1. +0.j,  1. +0.j,  1. +0.j,\n",
       "        1. +0.j,  1. +0.j,  1. +0.j,  1. +0.j,  1. +0.j,  1. +0.j,\n",
       "        1. +0.j,  1. +0.j,  1. +0.j,  1. +0.j,  1. +0.j,  1. +0.j,\n",
       "        1. +0.j,  1. +0.j,  1. +0.j,  1. +0.j,  1. +0.j,  1. +0.j,\n",
       "        1. +0.j,  1. +0.j,  1. +0.j,  1. +0.j,  1. +0.j,  1. +0.j,\n",
       "        1. +0.j,  1. +0.j,  1. +0.j,  1. +0.j,  1. +0.j,  1. +0.j,\n",
       "        1. +0.j,  1. +0.j,  1. +0.j,  1. +0.j,  1. +0.j,  1. +0.j,\n",
       "        1. +0.j,  1. +0.j,  1. +0.j,  1. +0.j,  1. +0.j,  1. +0.j,\n",
       "        1. +0.j,  1. +0.j,  1. +0.j,  1. +0.j,  1. +0.j,  1. +0.j,\n",
       "        1. +0.j,  1. +0.j,  1. +0.j,  1. +0.j,  1. +0.j,  1. +0.j,\n",
       "        1. +0.j,  1. +0.j,  1. +0.j,  1. +0.j,  1. +0.j,  1. +0.j,\n",
       "        1. +0.j,  1. +0.j,  1. +0.j,  1. +0.j,  1. +0.j,  1. +0.j,\n",
       "        1. +0.j,  1. +0.j,  1. +0.j,  1. +0.j,  1. +0.j,  1. +0.j,\n",
       "        1. +0.j,  1. +0.j,  1. +0.j,  1. +0.j,  1. +0.j,  1. +0.j,\n",
       "        1. +0.j,  1. +0.j,  1. +0.j,  1. +0.j,  1. +0.j,  1. +0.j,\n",
       "        1. +0.j,  1. +0.j,  1. +0.j,  1. +0.j,  1. +0.j,  1. +0.j,\n",
       "        1. +0.j,  1. +0.j,  1. +0.j,  1. +0.j,  1. +0.j,  1. +0.j,\n",
       "        1. +0.j,  1. +0.j,  1. +0.j,  1. +0.j,  1. +0.j,  1. +0.j,\n",
       "        1. +0.j,  1. +0.j,  1. +0.j,  1. +0.j,  1. +0.j,  1. +0.j,\n",
       "        1. +0.j,  1. +0.j,  1. +0.j,  1. +0.j,  1. +0.j,  1. +0.j,\n",
       "        1. +0.j,  1. +0.j,  1. +0.j,  1. +0.j,  1. +0.j,  1. +0.j,\n",
       "        1. +0.j,  1. +0.j,  1. +0.j,  1. +0.j,  1. +0.j,  1. +0.j,\n",
       "        1. +0.j,  1. +0.j,  1. +0.j,  1. +0.j,  1. +0.j,  1. +0.j,\n",
       "        1. +0.j,  1. +0.j,  1. +0.j,  1. +0.j,  1. +0.j,  1. +0.j,\n",
       "        1. +0.j,  1. +0.j,  1. +0.j,  1. +0.j,  1. +0.j,  1. +0.j,\n",
       "        1. +0.j,  1. +0.j,  1. +0.j,  1. +0.j,  1. +0.j,  1. +0.j,\n",
       "        1. +0.j,  1. +0.j,  1. +0.j,  1. +0.j,  1. +0.j,  1. +0.j,\n",
       "        1. +0.j,  1. +0.j,  1. +0.j,  1. +0.j,  1. +0.j,  1. +0.j,\n",
       "        1. +0.j,  1. +0.j,  1. +0.j,  1. +0.j,  1. +0.j,  1. +0.j,\n",
       "        1. +0.j,  1. +0.j,  1. +0.j,  1. +0.j,  1. +0.j,  1. +0.j,\n",
       "        1. +0.j,  1. +0.j,  1. +0.j,  1. +0.j,  1. +0.j,  1. +0.j,\n",
       "        1. +0.j,  1. +0.j,  1. +0.j,  1. +0.j,  1. +0.j,  1. +0.j,\n",
       "        1. +0.j,  1. +0.j,  1. +0.j,  1. +0.j,  1. +0.j,  1. +0.j,\n",
       "        1. +0.j,  1. +0.j,  1. +0.j,  1. +0.j,  1. +0.j,  1. +0.j,\n",
       "        1. +0.j,  1. +0.j,  1. +0.j,  1. +0.j,  1. +0.j,  1. +0.j,\n",
       "        1. +0.j,  1. +0.j,  1. +0.j,  1. +0.j,  1. +0.j,  1. +0.j,\n",
       "        1. +0.j,  1. +0.j,  1. +0.j,  1. +0.j,  1. +0.j,  1. +0.j,\n",
       "        1. +0.j,  1. +0.j,  1. +0.j,  1. +0.j,  1. +0.j,  1. +0.j,\n",
       "        1. +0.j,  1. +0.j,  1. +0.j,  1. +0.j,  1. +0.j,  1. +0.j,\n",
       "        1. +0.j,  1. +0.j,  1. +0.j,  1. +0.j,  1. +0.j,  1. +0.j,\n",
       "        1. +0.j,  1. +0.j,  1. +0.j,  1. +0.j,  1. +0.j,  1. +0.j,\n",
       "        1. +0.j,  1. +0.j,  1. +0.j,  1. +0.j,  1. +0.j,  1. +0.j,\n",
       "        1. +0.j,  1. +0.j,  1. +0.j,  1. +0.j,  1. +0.j,  1. +0.j,\n",
       "        1. +0.j,  1. +0.j,  1. +0.j,  1. +0.j,  1. +0.j,  1. +0.j,\n",
       "        1. +0.j,  1. +0.j,  1. +0.j,  1. +0.j,  1. +0.j,  1. +0.j,\n",
       "        1. +0.j,  1. +0.j,  1. +0.j,  1. +0.j,  1. +0.j,  1. +0.j,\n",
       "        1. +0.j,  1. +0.j,  1. +0.j,  1. +0.j,  1. +0.j,  1. +0.j,\n",
       "        1. +0.j,  1. +0.j,  1. +0.j,  1. +0.j,  1. +0.j,  1. +0.j,\n",
       "        1. +0.j,  1. +0.j,  1. +0.j,  1. +0.j,  1. +0.j,  1. +0.j,\n",
       "        1. +0.j,  1. +0.j,  1. +0.j,  1. +0.j,  1. +0.j,  1. +0.j,\n",
       "        1. +0.j,  1. +0.j,  1. +0.j,  1. +0.j,  1. +0.j,  1. +0.j,\n",
       "        1. +0.j,  1. +0.j,  1. +0.j,  1. +0.j,  1. +0.j,  1. +0.j,\n",
       "        1. +0.j,  1. +0.j,  1. +0.j,  1. +0.j,  1. +0.j,  1. +0.j,\n",
       "        1. +0.j,  1. +0.j,  1. +0.j,  1. +0.j,  1. +0.j,  1. +0.j,\n",
       "        1. +0.j,  1. +0.j,  1. +0.j,  1. +0.j,  1. +0.j,  1. +0.j,\n",
       "        1. +0.j,  1. +0.j,  1. +0.j,  1. +0.j,  1. +0.j,  1. +0.j,\n",
       "        1. +0.j,  1. +0.j,  1. +0.j,  1. +0.j,  1. +0.j,  1. +0.j,\n",
       "        1. +0.j,  1. +0.j,  1. +0.j,  1. +0.j,  1. +0.j,  1. +0.j,\n",
       "        1. +0.j,  1. +0.j,  1. +0.j,  1. +0.j,  1. +0.j,  1. +0.j,\n",
       "        1. +0.j,  1. +0.j,  1. +0.j,  1. +0.j,  1. +0.j,  1. +0.j,\n",
       "        1. +0.j,  1. +0.j,  1. +0.j,  1. +0.j,  1. +0.j,  1. +0.j,\n",
       "        1. +0.j,  1. +0.j,  1. +0.j,  1. +0.j,  1. +0.j,  1. +0.j,\n",
       "        1. +0.j,  1. +0.j,  1. +0.j,  1. +0.j,  1. +0.j,  1. +0.j,\n",
       "        1. +0.j,  1. +0.j,  1. +0.j,  1. +0.j,  1. +0.j,  1. +0.j,\n",
       "        1. +0.j,  1. +0.j,  1. +0.j,  1. +0.j,  1. +0.j,  1. +0.j,\n",
       "        1. +0.j,  1. +0.j,  1. +0.j,  1. +0.j,  1. +0.j,  1. +0.j,\n",
       "        1. +0.j,  1. +0.j,  1. +0.j,  1. +0.j,  1. +0.j,  1. +0.j,\n",
       "        1. +0.j,  1. +0.j,  1. +0.j,  1. +0.j,  1. +0.j,  1. +0.j,\n",
       "        1. +0.j,  1. +0.j,  1. +0.j,  1. +0.j,  1. +0.j,  1. +0.j,\n",
       "        1. +0.j,  1. +0.j,  1. +0.j,  1. +0.j,  1. +0.j,  1. +0.j,\n",
       "        1. +0.j,  1. +0.j,  1. +0.j,  1. +0.j,  1. +0.j,  1. +0.j,\n",
       "        1. +0.j,  1. +0.j,  1. +0.j,  1. +0.j,  1. +0.j,  1. +0.j,\n",
       "        1. +0.j,  1. +0.j,  1. +0.j,  1. +0.j,  1. +0.j,  1. +0.j,\n",
       "        1. +0.j,  1. +0.j,  1. +0.j,  1. +0.j,  1. +0.j,  1. +0.j,\n",
       "        1. +0.j,  1. +0.j,  1. +0.j,  1. +0.j,  1. +0.j,  1. +0.j,\n",
       "        1. +0.j,  1. +0.j,  1. +0.j,  1. +0.j,  1. +0.j,  1. +0.j,\n",
       "        1. +0.j,  1. +0.j,  1. +0.j,  1. +0.j,  1. +0.j,  1. +0.j,\n",
       "        1. +0.j,  1. +0.j,  1. +0.j,  1. +0.j,  1. +0.j,  1. +0.j,\n",
       "        1. +0.j,  1. +0.j,  1. +0.j,  1. +0.j,  1. +0.j,  1. +0.j,\n",
       "        1. +0.j,  1. +0.j,  1. +0.j,  1. +0.j,  1. +0.j,  1. +0.j,\n",
       "        1. +0.j,  1. +0.j,  1. +0.j,  1. +0.j,  1. +0.j,  1. +0.j,\n",
       "        1. +0.j,  1. +0.j,  1. +0.j,  1. +0.j,  1. +0.j,  1. +0.j,\n",
       "        1. +0.j,  1. +0.j,  1. +0.j,  1. +0.j,  1. +0.j,  1. +0.j,\n",
       "        1. +0.j,  1. +0.j,  1. +0.j,  1. +0.j,  1. +0.j,  1. +0.j,\n",
       "        1. +0.j,  1. +0.j,  1. +0.j,  1. +0.j,  1. +0.j,  1. +0.j,\n",
       "        1. +0.j,  1. +0.j,  1. +0.j,  1. +0.j,  1. +0.j,  1. +0.j,\n",
       "        1. +0.j,  1. +0.j,  1. +0.j,  1. +0.j,  1. +0.j,  1. +0.j,\n",
       "        1. +0.j,  1. +0.j,  1. +0.j,  1. +0.j,  1. +0.j,  1. +0.j,\n",
       "        1. +0.j,  1. +0.j,  1. +0.j,  1. +0.j,  1. +0.j,  1. +0.j,\n",
       "        1. +0.j,  1. +0.j,  1. +0.j,  1. +0.j,  1. +0.j,  1. +0.j,\n",
       "        1. +0.j,  1. +0.j,  1. +0.j,  1. +0.j,  1. +0.j,  1. +0.j,\n",
       "        1. +0.j,  1. +0.j,  1. +0.j,  1. +0.j,  1. +0.j,  1. +0.j,\n",
       "        1. +0.j,  1. +0.j,  1. +0.j,  1. +0.j,  1. +0.j,  1. +0.j,\n",
       "        1. +0.j,  1. +0.j,  1. +0.j,  1. +0.j,  1. +0.j,  1. +0.j,\n",
       "        1. +0.j,  1. +0.j,  1. +0.j,  1. +0.j,  1. +0.j,  1. +0.j,\n",
       "        1. +0.j,  1. +0.j,  1. +0.j,  1. +0.j,  1. +0.j,  1. +0.j,\n",
       "        1. +0.j,  1. +0.j,  1. +0.j,  1. +0.j,  1. +0.j,  1. +0.j,\n",
       "        1. +0.j,  1. +0.j,  1. +0.j,  1. +0.j,  1. +0.j,  1. +0.j,\n",
       "        1. +0.j,  1. +0.j,  1. +0.j,  1. +0.j,  1. +0.j,  1. +0.j,\n",
       "        1. +0.j,  1. +0.j,  1. +0.j,  1. +0.j,  1. +0.j,  1. +0.j,\n",
       "        1. +0.j,  1. +0.j,  1. +0.j,  1. +0.j,  1. +0.j,  1. +0.j,\n",
       "        1. +0.j,  1. +0.j,  1. +0.j,  1. +0.j,  1. +0.j,  1. +0.j,\n",
       "        1. +0.j,  1. +0.j,  1. +0.j,  1. +0.j,  1. +0.j,  1. +0.j,\n",
       "        1. +0.j,  1. +0.j,  1. +0.j,  1. +0.j,  1. +0.j,  1. +0.j,\n",
       "        1. +0.j,  1. +0.j,  1. +0.j,  1. +0.j,  1. +0.j,  1. +0.j,\n",
       "        1. +0.j,  1. +0.j,  1. +0.j,  1. +0.j,  1. +0.j,  1. +0.j,\n",
       "        1. +0.j,  1. +0.j,  1. +0.j,  1. +0.j,  1. +0.j,  1. +0.j,\n",
       "        1. +0.j,  1. +0.j,  1. +0.j,  1. +0.j,  1. +0.j,  1. +0.j,\n",
       "        1. +0.j,  1. +0.j,  1. +0.j,  1. +0.j,  1. +0.j,  1. +0.j,\n",
       "        1. +0.j,  1. +0.j,  1. +0.j,  1. +0.j,  1. +0.j,  1. +0.j,\n",
       "        1. +0.j,  1. +0.j,  1. +0.j,  1. +0.j,  1. +0.j,  1. +0.j,\n",
       "        1. +0.j,  1. +0.j,  1. +0.j,  1. +0.j,  1. +0.j,  1. +0.j,\n",
       "        1. +0.j,  1. +0.j,  1. +0.j,  1. +0.j,  1. +0.j,  1. +0.j,\n",
       "        1. +0.j,  1. +0.j,  1. +0.j,  1. +0.j,  1. +0.j,  1. +0.j,\n",
       "        1. +0.j,  1. +0.j,  1. +0.j,  1. +0.j,  1. +0.j,  1. +0.j,\n",
       "        1. +0.j,  1. +0.j,  1. +0.j,  1. +0.j,  1. +0.j,  1. +0.j,\n",
       "        1. +0.j,  1. +0.j,  1. +0.j,  1. +0.j,  1. +0.j,  1. +0.j,\n",
       "        1. +0.j,  1. +0.j,  1. +0.j,  1. +0.j,  1. +0.j,  1. +0.j,\n",
       "        1. +0.j,  1. +0.j,  1. +0.j,  1. +0.j,  1. +0.j,  1. +0.j,\n",
       "        1. +0.j,  1. +0.j,  1. +0.j,  1. +0.j,  1. +0.j,  1. +0.j,\n",
       "        1. +0.j,  1. +0.j,  1. +0.j,  1. +0.j,  1. +0.j,  1. +0.j,\n",
       "        1. +0.j,  1. +0.j,  1. +0.j,  1. +0.j,  1. +0.j,  1. +0.j,\n",
       "        1. +0.j,  1. +0.j,  1. +0.j,  1. +0.j,  1. +0.j, nan+nanj,\n",
       "       nan+nanj, nan+nanj, nan+nanj, nan+nanj, nan+nanj, nan+nanj,\n",
       "       nan+nanj, nan+nanj, nan+nanj, nan+nanj, nan+nanj, nan+nanj,\n",
       "       nan+nanj, nan+nanj, nan+nanj, nan+nanj, nan+nanj, nan+nanj,\n",
       "       nan+nanj, nan+nanj, nan+nanj, nan+nanj, nan+nanj, nan+nanj,\n",
       "       nan+nanj, nan+nanj, nan+nanj, nan+nanj, nan+nanj, nan+nanj,\n",
       "       nan+nanj, nan+nanj, nan+nanj, nan+nanj, nan+nanj, nan+nanj,\n",
       "       nan+nanj, nan+nanj, nan+nanj, nan+nanj, nan+nanj, nan+nanj,\n",
       "       nan+nanj, nan+nanj, nan+nanj, nan+nanj, nan+nanj, nan+nanj,\n",
       "       nan+nanj, nan+nanj, nan+nanj, nan+nanj, nan+nanj, nan+nanj,\n",
       "       nan+nanj, nan+nanj, nan+nanj, nan+nanj, nan+nanj, nan+nanj,\n",
       "       nan+nanj, nan+nanj, nan+nanj, nan+nanj, nan+nanj, nan+nanj,\n",
       "       nan+nanj, nan+nanj, nan+nanj, nan+nanj, nan+nanj, nan+nanj,\n",
       "       nan+nanj, nan+nanj, nan+nanj, nan+nanj, nan+nanj, nan+nanj,\n",
       "       nan+nanj, nan+nanj, nan+nanj, nan+nanj, nan+nanj, nan+nanj,\n",
       "       nan+nanj, nan+nanj, nan+nanj, nan+nanj, nan+nanj, nan+nanj,\n",
       "       nan+nanj, nan+nanj, nan+nanj, nan+nanj, nan+nanj, nan+nanj,\n",
       "       nan+nanj, nan+nanj, nan+nanj, nan+nanj, nan+nanj, nan+nanj,\n",
       "       nan+nanj, nan+nanj, nan+nanj, nan+nanj, nan+nanj, nan+nanj,\n",
       "       nan+nanj, nan+nanj, nan+nanj, nan+nanj, nan+nanj, nan+nanj,\n",
       "       nan+nanj, nan+nanj, nan+nanj, nan+nanj, nan+nanj, nan+nanj,\n",
       "       nan+nanj, nan+nanj, nan+nanj, nan+nanj, nan+nanj, nan+nanj,\n",
       "       nan+nanj, nan+nanj, nan+nanj, nan+nanj, nan+nanj, nan+nanj,\n",
       "       nan+nanj, nan+nanj, nan+nanj, nan+nanj, nan+nanj, nan+nanj,\n",
       "       nan+nanj, nan+nanj, nan+nanj, nan+nanj, nan+nanj, nan+nanj,\n",
       "       nan+nanj, nan+nanj, nan+nanj, nan+nanj, nan+nanj, nan+nanj,\n",
       "       nan+nanj, nan+nanj, nan+nanj, nan+nanj, nan+nanj, nan+nanj,\n",
       "       nan+nanj, nan+nanj, nan+nanj, nan+nanj, nan+nanj, nan+nanj,\n",
       "       nan+nanj, nan+nanj, nan+nanj, nan+nanj, nan+nanj, nan+nanj,\n",
       "       nan+nanj, nan+nanj, nan+nanj, nan+nanj, nan+nanj, nan+nanj,\n",
       "       nan+nanj, nan+nanj, nan+nanj, nan+nanj])"
      ]
     },
     "execution_count": 12,
     "metadata": {},
     "output_type": "execute_result"
    }
   ],
   "source": [
    "spectrum_nucleus_nsi_total/spectrum_nucleus_nsi_total_nsi"
   ]
  }
 ],
 "metadata": {
  "kernelspec": {
   "display_name": "Python 3 (ipykernel)",
   "language": "python",
   "name": "python3"
  },
  "language_info": {
   "codemirror_mode": {
    "name": "ipython",
    "version": 3
   },
   "file_extension": ".py",
   "mimetype": "text/x-python",
   "name": "python",
   "nbconvert_exporter": "python",
   "pygments_lexer": "ipython3",
   "version": "3.8.5"
  }
 },
 "nbformat": 4,
 "nbformat_minor": 5
}
