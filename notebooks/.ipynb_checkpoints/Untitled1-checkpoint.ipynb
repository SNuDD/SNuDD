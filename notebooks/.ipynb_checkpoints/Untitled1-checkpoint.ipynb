{
 "cells": [
  {
   "cell_type": "code",
   "execution_count": 20,
   "id": "44602312",
   "metadata": {},
   "outputs": [
    {
     "name": "stdout",
     "output_type": "stream",
     "text": [
      "The autoreload extension is already loaded. To reload it, use:\n",
      "  %reload_ext autoreload\n"
     ]
    }
   ],
   "source": [
    "%matplotlib inline\n",
    "%load_ext autoreload\n",
    "%autoreload 2"
   ]
  },
  {
   "cell_type": "code",
   "execution_count": 21,
   "id": "737068ed",
   "metadata": {},
   "outputs": [],
   "source": [
    "import numpy as np\n",
    "import matplotlib.pyplot as plt\n",
    "from nudd import resolution\n",
    "from nudd.quenching import quenching_xe\n",
    "from nudd.targets import nucleus_xe, electron_xe\n",
    "from nudd import efficiencies"
   ]
  },
  {
   "cell_type": "code",
   "execution_count": 22,
   "id": "04c45762",
   "metadata": {},
   "outputs": [],
   "source": [
    "E_Rs = np.logspace(-1, 1, 1000) / 1e6"
   ]
  },
  {
   "cell_type": "code",
   "execution_count": 23,
   "id": "6a6fab8b",
   "metadata": {},
   "outputs": [],
   "source": [
    "spec_nr= nucleus_xe.spectrum(E_Rs)"
   ]
  },
  {
   "cell_type": "markdown",
   "id": "b7a395f6",
   "metadata": {},
   "source": [
    "## NR space"
   ]
  },
  {
   "cell_type": "code",
   "execution_count": 24,
   "id": "4357df32",
   "metadata": {},
   "outputs": [
    {
     "data": {
      "text/plain": [
       "(0.001, 10000.0)"
      ]
     },
     "execution_count": 24,
     "metadata": {},
     "output_type": "execute_result"
    },
    {
     "data": {
      "image/png": "[encoded data removed]",
      "text/plain": [
       "<Figure size 432x288 with 1 Axes>"
      ]
     },
     "metadata": {
      "needs_background": "light"
     },
     "output_type": "display_data"
    }
   ],
   "source": [
    "plt.figure()\n",
    "plt.loglog(E_Rs * 1e6, spec_nr)\n",
    "\n",
    "plt.ylim(1e-3, 1e4)"
   ]
  },
  {
   "cell_type": "code",
   "execution_count": 25,
   "id": "17765ae0",
   "metadata": {},
   "outputs": [
    {
     "name": "stdout",
     "output_type": "stream",
     "text": [
      "In nr-energies, total number of events is 736.9297238489307\n"
     ]
    }
   ],
   "source": [
    "n_nr = np.trapz(spec_nr, E_Rs*1e6)\n",
    "print(f'In nr-energies, total number of events is {n_nr}')"
   ]
  },
  {
   "cell_type": "markdown",
   "id": "215fb4f6",
   "metadata": {},
   "source": [
    "## ER Space"
   ]
  },
  {
   "cell_type": "code",
   "execution_count": 26,
   "id": "9a142b87",
   "metadata": {},
   "outputs": [],
   "source": [
    "spec_ee = resolution.spec_nr2ee(E_Rs, spec_nr, quenching_xe)\n",
    "E_ees = quenching_xe.convert_nr2ee(E_Rs)"
   ]
  },
  {
   "cell_type": "code",
   "execution_count": 27,
   "id": "ecafe892",
   "metadata": {},
   "outputs": [
    {
     "data": {
      "text/plain": [
       "(0.001, 10000.0)"
      ]
     },
     "execution_count": 27,
     "metadata": {},
     "output_type": "execute_result"
    },
    {
     "data": {
      "image/png": "[encoded data removed]",
      "text/plain": [
       "<Figure size 432x288 with 1 Axes>"
      ]
     },
     "metadata": {
      "needs_background": "light"
     },
     "output_type": "display_data"
    }
   ],
   "source": [
    "plt.figure()\n",
    "plt.loglog(E_ees * 1e6, spec_ee)\n",
    "plt.ylim(1e-3, 1e4)"
   ]
  },
  {
   "cell_type": "code",
   "execution_count": 28,
   "id": "d503b79f",
   "metadata": {},
   "outputs": [
    {
     "name": "stdout",
     "output_type": "stream",
     "text": [
      "In ee-energies, total number of events is 736.9305664988833\n"
     ]
    }
   ],
   "source": [
    "n_ee = np.trapz(spec_ee, E_ees*1e6)\n",
    "print(f'In ee-energies, total number of events is {n_ee}')"
   ]
  },
  {
   "cell_type": "markdown",
   "id": "c6a25ec2",
   "metadata": {},
   "source": [
    "Close enough!"
   ]
  },
  {
   "cell_type": "code",
   "execution_count": 29,
   "id": "8a827fe5",
   "metadata": {},
   "outputs": [],
   "source": [
    "E_primes = np.logspace(-3, 2, 3000)\n"
   ]
  },
  {
   "cell_type": "code",
   "execution_count": 30,
   "id": "f6fc3766",
   "metadata": {},
   "outputs": [
    {
     "data": {
      "text/plain": [
       "[<matplotlib.lines.Line2D at 0x7fe32bdca340>]"
      ]
     },
     "execution_count": 30,
     "metadata": {},
     "output_type": "execute_result"
    },
    {
     "data": {
      "image/png": "[encoded data removed]",
      "text/plain": [
       "<Figure size 432x288 with 1 Axes>"
      ]
     },
     "metadata": {
      "needs_background": "light"
     },
     "output_type": "display_data"
    }
   ],
   "source": [
    "plt.figure()\n",
    "plt.plot(E_Rs * 1e6, resolution.res_lz_nr.resolution_fn(E_Rs) * 100)"
   ]
  },
  {
   "cell_type": "code",
   "execution_count": 31,
   "id": "9af8c1c4",
   "metadata": {},
   "outputs": [],
   "source": [
    "E_Rs = np.logspace(-1, 1, 1000) / 1e6  # Division by 1e6 to convert to GeV\n",
    "spec = nucleus_xe.spectrum(E_Rs)"
   ]
  },
  {
   "cell_type": "code",
   "execution_count": null,
   "id": "6397f380",
   "metadata": {},
   "outputs": [],
   "source": [
    "E_primes = np.logspace(-6, 2.5, 10000) / 1e6\n",
    "spec_prime = nucleus_xe.spectrum(E_primes)"
   ]
  },
  {
   "cell_type": "code",
   "execution_count": null,
   "id": "7e924eba",
   "metadata": {},
   "outputs": [],
   "source": [
    "eff_xnt = efficiencies.efficiency_lz_nr\n",
    "res_xnt = resolution.res_lz_nr\n",
    "convolver = resolution.Convolver(E_primes, spec_prime, eff_xnt, res_xnt)\n",
    "E_Rs = np.logspace(-1, 2, 1000) / 1e6\n",
    "spec = convolver.convolve_spectrum(E_Rs)"
   ]
  },
  {
   "cell_type": "code",
   "execution_count": null,
   "id": "16dbdb65",
   "metadata": {},
   "outputs": [],
   "source": [
    "convolver.convolved_binned_rate(1e-6/1e6, 10/1e6)* 20"
   ]
  },
  {
   "cell_type": "code",
   "execution_count": 19,
   "id": "311102e0",
   "metadata": {},
   "outputs": [
    {
     "data": {
      "text/plain": [
       "(0.1, 1000.0)"
      ]
     },
     "execution_count": 19,
     "metadata": {},
     "output_type": "execute_result"
    },
    {
     "data": {
      "image/png": "[encoded data removed]",
      "text/plain": [
       "<Figure size 432x288 with 1 Axes>"
      ]
     },
     "metadata": {
      "needs_background": "light"
     },
     "output_type": "display_data"
    }
   ],
   "source": [
    "plt.figure()\n",
    "plt.loglog(E_primes*1e6, spec_prime)\n",
    "plt.loglog(E_Rs*1e6, spec)\n",
    "plt.xlim(1e-2, 5e1)\n",
    "plt.ylim(1e-1, 1e3)"
   ]
  },
  {
   "cell_type": "markdown",
   "id": "6f45c72a",
   "metadata": {},
   "source": [
    "## Old Check"
   ]
  },
  {
   "cell_type": "code",
   "execution_count": 19,
   "id": "e1d329ac",
   "metadata": {},
   "outputs": [],
   "source": [
    "E_Rs = np.logspace(-1, 1, 1000) / 1e6  # Division by 1e6 to convert to GeV\n",
    "spec = electron_xe.spectrum(E_Rs)"
   ]
  },
  {
   "cell_type": "code",
   "execution_count": 20,
   "id": "b41043f4",
   "metadata": {},
   "outputs": [],
   "source": [
    "E_primes = np.logspace(-2, 2.5, 5000) / 1e6\n",
    "spec_prime = electron_xe.spectrum(E_primes)"
   ]
  },
  {
   "cell_type": "code",
   "execution_count": 23,
   "id": "efab9951",
   "metadata": {},
   "outputs": [],
   "source": [
    "eff_xnt = efficiencies.efficiency_xnt_er\n",
    "res_xnt = resolution.res_xnt_er\n",
    "convolver = resolution.Convolver(E_primes, spec_prime, eff_xnt, res_xnt)\n",
    "E_Rs = np.logspace(-1, 2, 1000) / 1e6\n",
    "spec = convolver.convolve_spectrum(E_Rs)"
   ]
  },
  {
   "cell_type": "code",
   "execution_count": 24,
   "id": "83e3ecea",
   "metadata": {},
   "outputs": [
    {
     "data": {
      "text/plain": [
       "20.343524488543093"
      ]
     },
     "execution_count": 24,
     "metadata": {},
     "output_type": "execute_result"
    }
   ],
   "source": [
    "convolver.convolved_binned_rate(1/1e6, 10/1e6)"
   ]
  },
  {
   "cell_type": "code",
   "execution_count": 25,
   "id": "8c1c0f97",
   "metadata": {},
   "outputs": [
    {
     "data": {
      "text/plain": [
       "(1.0, 3.0)"
      ]
     },
     "execution_count": 25,
     "metadata": {},
     "output_type": "execute_result"
    },
    {
     "data": {
      "image/png": "[encoded data removed]",
      "text/plain": [
       "<Figure size 432x288 with 1 Axes>"
      ]
     },
     "metadata": {
      "needs_background": "light"
     },
     "output_type": "display_data"
    }
   ],
   "source": [
    "plt.figure()\n",
    "plt.loglog(E_primes*1e6, spec_prime)\n",
    "plt.loglog(E_Rs*1e6, spec)\n",
    "plt.xlim(1e0, 1e2)\n",
    "plt.ylim(1e0, 3e0)"
   ]
  },
  {
   "cell_type": "code",
   "execution_count": null,
   "id": "1bf0d28f",
   "metadata": {},
   "outputs": [],
   "source": []
  }
 ],
 "metadata": {
  "kernelspec": {
   "display_name": "Python 3 (ipykernel)",
   "language": "python",
   "name": "python3"
  },
  "language_info": {
   "codemirror_mode": {
    "name": "ipython",
    "version": 3
   },
   "file_extension": ".py",
   "mimetype": "text/x-python",
   "name": "python",
   "nbconvert_exporter": "python",
   "pygments_lexer": "ipython3",
   "version": "3.8.5"
  }
 },
 "nbformat": 4,
 "nbformat_minor": 5
}
