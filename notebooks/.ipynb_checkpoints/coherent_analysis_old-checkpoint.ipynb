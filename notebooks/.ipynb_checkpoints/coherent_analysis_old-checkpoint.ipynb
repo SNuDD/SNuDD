{
 "cells": [
  {
   "cell_type": "code",
   "execution_count": 8,
   "id": "f4ed2951",
   "metadata": {},
   "outputs": [
    {
     "name": "stdout",
     "output_type": "stream",
     "text": [
      "The autoreload extension is already loaded. To reload it, use:\n",
      "  %reload_ext autoreload\n"
     ]
    },
    {
     "name": "stderr",
     "output_type": "stream",
     "text": [
      "[autoreload of nudd.coherent failed: Traceback (most recent call last):\n",
      "  File \"/home/dorian/anaconda3/lib/python3.8/site-packages/IPython/extensions/autoreload.py\", line 245, in check\n",
      "    superreload(m, reload, self.old_objects)\n",
      "  File \"/home/dorian/anaconda3/lib/python3.8/site-packages/IPython/extensions/autoreload.py\", line 394, in superreload\n",
      "    module = reload(module)\n",
      "  File \"/home/dorian/anaconda3/lib/python3.8/imp.py\", line 314, in reload\n",
      "    return importlib.reload(module)\n",
      "  File \"/home/dorian/anaconda3/lib/python3.8/importlib/__init__.py\", line 169, in reload\n",
      "    _bootstrap._exec(spec, module)\n",
      "  File \"<frozen importlib._bootstrap>\", line 604, in _exec\n",
      "  File \"<frozen importlib._bootstrap_external>\", line 783, in exec_module\n",
      "  File \"<frozen importlib._bootstrap>\", line 219, in _call_with_frames_removed\n",
      "  File \"/home/dorian/Documents/PhD/Projects/nudd/nudd/coherent/__init__.py\", line 1, in <module>\n",
      "    import coherent.config\n",
      "ModuleNotFoundError: No module named 'coherent'\n",
      "]\n"
     ]
    }
   ],
   "source": [
    "%matplotlib notebook\n",
    "%load_ext autoreload\n",
    "%autoreload 2"
   ]
  },
  {
   "cell_type": "code",
   "execution_count": 2,
   "id": "5703e47c",
   "metadata": {},
   "outputs": [
    {
     "name": "stdout",
     "output_type": "stream",
     "text": [
      "pp\n",
      "pp\n",
      "8B\n",
      "8B\n",
      "hep\n",
      "hep\n",
      "7Be_3\n",
      "7Be\n",
      "7Be_8\n",
      "7Be\n",
      "pep\n",
      "pep\n",
      "13N\n",
      "13N\n",
      "15O\n",
      "15O\n",
      "17F\n",
      "17F\n"
     ]
    }
   ],
   "source": [
    "from copy import deepcopy\n",
    "\n",
    "import numpy as np\n",
    "import matplotlib.pyplot as plt\n",
    "\n",
    "from nudd import config\n",
    "from nudd.targets import nucleus_ar\n",
    "from nudd.models import NeutrinoDipole"
   ]
  },
  {
   "cell_type": "code",
   "execution_count": 7,
   "id": "4eb07346",
   "metadata": {},
   "outputs": [],
   "source": [
    "from nudd import coherent"
   ]
  },
  {
   "cell_type": "code",
   "execution_count": null,
   "id": "d3deb0b0",
   "metadata": {},
   "outputs": [],
   "source": [
    "coherent"
   ]
  },
  {
   "cell_type": "code",
   "execution_count": 3,
   "id": "b18541d2",
   "metadata": {},
   "outputs": [],
   "source": [
    "M2PERGEV = config.fm_conv * 1e15  # Conversion from m to /GeV\n",
    "TON2GEV = 1e3 * config.c**2 / config.e0 / 1e9\n",
    "\n",
    "E_MAX = 120  # Max energy to integrate to in keV\n",
    "\n",
    "DETECTOR_CONFIGS = {'ESS10': {'threshold': 0.1,\n",
    "                              'mass_det': 0.01,\n",
    "                              'n_pot': 2.8e23,\n",
    "                              'r': 0.3,\n",
    "                              'baseline': 20,\n",
    "                              'stat_sig': 0.05},\n",
    "\n",
    "                    'CCM': {'threshold': 10,\n",
    "                            'mass_det': 7,\n",
    "                            'n_pot': 0.177e23,\n",
    "                            'r': 0.0425,\n",
    "                            'baseline': 20,\n",
    "                            'stat_sig': 0.05},\n",
    "\n",
    "                    'CNNS610': {'threshold': 15,\n",
    "                                'mass_det': 0.61,\n",
    "                                'n_pot': 1.5e23,\n",
    "                                'r': 0.08,\n",
    "                                'baseline': 28.4,\n",
    "                                'stat_sig': 0.085},\n",
    "\n",
    "                    'ESS': {'threshold': 20,\n",
    "                            'mass_det': 1,\n",
    "                            'n_pot': 2.8e23,\n",
    "                            'r': 0.3,\n",
    "                            'baseline': 20,\n",
    "                            'stat_sig': 0.05}}"
   ]
  },
  {
   "cell_type": "code",
   "execution_count": 4,
   "id": "97f59242",
   "metadata": {
    "lines_to_next_cell": 2
   },
   "outputs": [],
   "source": [
    "class Detector:\n",
    "    \"\"\"Dataclass representing detector characteristics.\"\"\"\n",
    "\n",
    "    def __init__(self, nucleus, threshold, mass_det, n_pot, r, baseline, stat_sig):\n",
    "\n",
    "        self.nucleus = nucleus\n",
    "        self.mass_det = mass_det  # Detector mass in ton\n",
    "        self.n_pot = n_pot\n",
    "        self.r = r\n",
    "        self.baseline = baseline  # in m\n",
    "        self.threshold = threshold  # Threshold in keV\n",
    "        self.stat_sig = stat_sig\n",
    "\n",
    "\n",
    "    @property\n",
    "    def eta(self):\n",
    "        \"\"\"The scaling for a detector.\"\"\"\n",
    "\n",
    "        mass_det = self.mass_det * TON2GEV\n",
    "        baseline = self.baseline * M2PERGEV\n",
    "\n",
    "        return mass_det * self.r * self.n_pot / (4 * np.pi * baseline**2)\n",
    "\n",
    "    def spectrum(self, E_Rs, nu):\n",
    "        \"\"\"Return the differential rate spectrum.\"\"\"\n",
    "\n",
    "        return self.nucleus.spectrum(E_Rs, nu=nu) * self.eta\n",
    "    \n",
    "    def bin_edges(self, bin_width, E_MAX=120 / 1e6):\n",
    "        \"\"\"Return an array that contains bin edges (left and rigth values)\"\"\"\n",
    "        \n",
    "        return np.arange(self.threshold / 1e6, E_MAX+bin_width, bin_width) # The first element is the threshold energy\n",
    "    \n",
    "    def bin_spectrum(self, E_Rs, nu, bin_width, E_MAX= 120 /1e6):\n",
    "        \"\"\"Return the bined integrated rate spectrum and the bined energy\"\"\"\n",
    "        \n",
    "        spectrum = self.spectrum(E_Rs, nu) # This generates the full differential rate spectrum in all energies E_Rs\n",
    "        bin_edges = self.bin_edges(bin_width, E_MAX= 120 /1e6) # This generates the bins\n",
    "        \n",
    "        z=np.zeros(np.size(bin_edges)-1)\n",
    "        \n",
    "        for i in np.arange(np.size(bin_edges)-1): # Make ONE integration per bin (extreme right value is therefore not included)\n",
    "            x=E_Rs[np.where((E_Rs>=bin_edges[i])*(E_Rs<=bin_edges[i+1]))] # Select the energies inside the bin\n",
    "            y=spectrum[np.where((E_Rs>=bin_edges[i])*(E_Rs<=bin_edges[i+1]))] # Select the differential rate values inside the bin\n",
    "            \n",
    "            z[i]=np.trapz(y,x) # Integrate in the bin i (probably there are better ways to integrate haha)\n",
    "        \n",
    "        return bin_edges, z "
   ]
  },
  {
   "cell_type": "code",
   "execution_count": 5,
   "id": "b008a4a7",
   "metadata": {},
   "outputs": [],
   "source": [
    "E_Rs = np.geomspace(1e-1, E_MAX, 1000) / 1e6  # In GEV!!"
   ]
  },
  {
   "cell_type": "code",
   "execution_count": 6,
   "id": "41b64e16",
   "metadata": {},
   "outputs": [
    {
     "ename": "AttributeError",
     "evalue": "module 'nudd.coherent' has no attribute 'config'",
     "output_type": "error",
     "traceback": [
      "\u001b[0;31m---------------------------------------------------------------------------\u001b[0m",
      "\u001b[0;31mAttributeError\u001b[0m                            Traceback (most recent call last)",
      "\u001b[0;32m/tmp/ipykernel_100762/389831583.py\u001b[0m in \u001b[0;36m<module>\u001b[0;34m\u001b[0m\n\u001b[1;32m      1\u001b[0m \u001b[0mdetector_sm\u001b[0m \u001b[0;34m=\u001b[0m \u001b[0mDetector\u001b[0m\u001b[0;34m(\u001b[0m\u001b[0mnucleus_ar\u001b[0m\u001b[0;34m,\u001b[0m \u001b[0;34m**\u001b[0m\u001b[0mDETECTOR_CONFIGS\u001b[0m\u001b[0;34m[\u001b[0m\u001b[0;34m'ESS'\u001b[0m\u001b[0;34m]\u001b[0m\u001b[0;34m)\u001b[0m\u001b[0;34m\u001b[0m\u001b[0;34m\u001b[0m\u001b[0m\n\u001b[1;32m      2\u001b[0m \u001b[0;34m\u001b[0m\u001b[0m\n\u001b[0;32m----> 3\u001b[0;31m \u001b[0mbin_edges\u001b[0m\u001b[0;34m,\u001b[0m \u001b[0mz\u001b[0m\u001b[0;34m=\u001b[0m\u001b[0mdetector_sm\u001b[0m\u001b[0;34m.\u001b[0m\u001b[0mbin_spectrum\u001b[0m\u001b[0;34m(\u001b[0m\u001b[0mE_Rs\u001b[0m\u001b[0;34m,\u001b[0m \u001b[0;32mNone\u001b[0m\u001b[0;34m,\u001b[0m \u001b[0;36m10\u001b[0m \u001b[0;34m/\u001b[0m \u001b[0;36m1e6\u001b[0m\u001b[0;34m,\u001b[0m \u001b[0mE_MAX\u001b[0m \u001b[0;34m/\u001b[0m \u001b[0;36m1e6\u001b[0m\u001b[0;34m)\u001b[0m\u001b[0;34m\u001b[0m\u001b[0;34m\u001b[0m\u001b[0m\n\u001b[0m\u001b[1;32m      4\u001b[0m \u001b[0;34m\u001b[0m\u001b[0m\n\u001b[1;32m      5\u001b[0m \u001b[0mprint\u001b[0m\u001b[0;34m(\u001b[0m\u001b[0mbin_edges\u001b[0m \u001b[0;34m*\u001b[0m \u001b[0;36m1e6\u001b[0m\u001b[0;34m)\u001b[0m\u001b[0;34m\u001b[0m\u001b[0;34m\u001b[0m\u001b[0m\n",
      "\u001b[0;32m/tmp/ipykernel_100762/226332545.py\u001b[0m in \u001b[0;36mbin_spectrum\u001b[0;34m(self, E_Rs, nu, bin_width, E_MAX)\u001b[0m\n\u001b[1;32m     35\u001b[0m         \u001b[0;34m\"\"\"Return the bined integrated rate spectrum and the bined energy\"\"\"\u001b[0m\u001b[0;34m\u001b[0m\u001b[0;34m\u001b[0m\u001b[0m\n\u001b[1;32m     36\u001b[0m \u001b[0;34m\u001b[0m\u001b[0m\n\u001b[0;32m---> 37\u001b[0;31m         \u001b[0mspectrum\u001b[0m \u001b[0;34m=\u001b[0m \u001b[0mself\u001b[0m\u001b[0;34m.\u001b[0m\u001b[0mspectrum\u001b[0m\u001b[0;34m(\u001b[0m\u001b[0mE_Rs\u001b[0m\u001b[0;34m,\u001b[0m \u001b[0mnu\u001b[0m\u001b[0;34m)\u001b[0m \u001b[0;31m# This generates the full differential rate spectrum in all energies E_Rs\u001b[0m\u001b[0;34m\u001b[0m\u001b[0;34m\u001b[0m\u001b[0m\n\u001b[0m\u001b[1;32m     38\u001b[0m         \u001b[0mbin_edges\u001b[0m \u001b[0;34m=\u001b[0m \u001b[0mself\u001b[0m\u001b[0;34m.\u001b[0m\u001b[0mbin_edges\u001b[0m\u001b[0;34m(\u001b[0m\u001b[0mbin_width\u001b[0m\u001b[0;34m,\u001b[0m \u001b[0mE_MAX\u001b[0m\u001b[0;34m=\u001b[0m \u001b[0;36m120\u001b[0m \u001b[0;34m/\u001b[0m\u001b[0;36m1e6\u001b[0m\u001b[0;34m)\u001b[0m \u001b[0;31m# This generates the bins\u001b[0m\u001b[0;34m\u001b[0m\u001b[0;34m\u001b[0m\u001b[0m\n\u001b[1;32m     39\u001b[0m \u001b[0;34m\u001b[0m\u001b[0m\n",
      "\u001b[0;32m/tmp/ipykernel_100762/226332545.py\u001b[0m in \u001b[0;36mspectrum\u001b[0;34m(self, E_Rs, nu)\u001b[0m\n\u001b[1;32m     25\u001b[0m         \u001b[0;34m\"\"\"Return the differential rate spectrum.\"\"\"\u001b[0m\u001b[0;34m\u001b[0m\u001b[0;34m\u001b[0m\u001b[0m\n\u001b[1;32m     26\u001b[0m \u001b[0;34m\u001b[0m\u001b[0m\n\u001b[0;32m---> 27\u001b[0;31m         \u001b[0;32mreturn\u001b[0m \u001b[0mself\u001b[0m\u001b[0;34m.\u001b[0m\u001b[0mnucleus\u001b[0m\u001b[0;34m.\u001b[0m\u001b[0mspectrum\u001b[0m\u001b[0;34m(\u001b[0m\u001b[0mE_Rs\u001b[0m\u001b[0;34m,\u001b[0m \u001b[0mnu\u001b[0m\u001b[0;34m=\u001b[0m\u001b[0mnu\u001b[0m\u001b[0;34m)\u001b[0m \u001b[0;34m*\u001b[0m \u001b[0mself\u001b[0m\u001b[0;34m.\u001b[0m\u001b[0meta\u001b[0m\u001b[0;34m\u001b[0m\u001b[0;34m\u001b[0m\u001b[0m\n\u001b[0m\u001b[1;32m     28\u001b[0m \u001b[0;34m\u001b[0m\u001b[0m\n\u001b[1;32m     29\u001b[0m     \u001b[0;32mdef\u001b[0m \u001b[0mbin_edges\u001b[0m\u001b[0;34m(\u001b[0m\u001b[0mself\u001b[0m\u001b[0;34m,\u001b[0m \u001b[0mbin_width\u001b[0m\u001b[0;34m,\u001b[0m \u001b[0mE_MAX\u001b[0m\u001b[0;34m=\u001b[0m\u001b[0;36m120\u001b[0m \u001b[0;34m/\u001b[0m \u001b[0;36m1e6\u001b[0m\u001b[0;34m)\u001b[0m\u001b[0;34m:\u001b[0m\u001b[0;34m\u001b[0m\u001b[0;34m\u001b[0m\u001b[0m\n",
      "\u001b[0;32m~/Documents/PhD/Projects/nudd/nudd/targets.py\u001b[0m in \u001b[0;36mspectrum\u001b[0;34m(self, E_R, total, nu)\u001b[0m\n\u001b[1;32m     36\u001b[0m     \u001b[0;32mdef\u001b[0m \u001b[0mspectrum\u001b[0m\u001b[0;34m(\u001b[0m\u001b[0mself\u001b[0m\u001b[0;34m,\u001b[0m \u001b[0mE_R\u001b[0m\u001b[0;34m,\u001b[0m \u001b[0mtotal\u001b[0m\u001b[0;34m=\u001b[0m\u001b[0;32mTrue\u001b[0m\u001b[0;34m,\u001b[0m \u001b[0mnu\u001b[0m\u001b[0;34m=\u001b[0m\u001b[0;32mNone\u001b[0m\u001b[0;34m)\u001b[0m\u001b[0;34m:\u001b[0m\u001b[0;34m\u001b[0m\u001b[0;34m\u001b[0m\u001b[0m\n\u001b[1;32m     37\u001b[0m         \u001b[0;34m\"\"\"Return differential rate spectrum.\"\"\"\u001b[0m\u001b[0;34m\u001b[0m\u001b[0;34m\u001b[0m\u001b[0m\n\u001b[0;32m---> 38\u001b[0;31m         \u001b[0;32mreturn\u001b[0m \u001b[0mself\u001b[0m\u001b[0;34m.\u001b[0m\u001b[0m_spec\u001b[0m\u001b[0;34m.\u001b[0m\u001b[0mspectrum\u001b[0m\u001b[0;34m(\u001b[0m\u001b[0mE_R\u001b[0m\u001b[0;34m,\u001b[0m \u001b[0mtotal\u001b[0m\u001b[0;34m,\u001b[0m \u001b[0mnu\u001b[0m\u001b[0;34m)\u001b[0m\u001b[0;34m\u001b[0m\u001b[0;34m\u001b[0m\u001b[0m\n\u001b[0m\u001b[1;32m     39\u001b[0m \u001b[0;34m\u001b[0m\u001b[0m\n\u001b[1;32m     40\u001b[0m     \u001b[0;32mdef\u001b[0m \u001b[0mprepare_probabilities\u001b[0m\u001b[0;34m(\u001b[0m\u001b[0mself\u001b[0m\u001b[0;34m)\u001b[0m\u001b[0;34m:\u001b[0m\u001b[0;34m\u001b[0m\u001b[0;34m\u001b[0m\u001b[0m\n",
      "\u001b[0;32m~/Documents/PhD/Projects/nudd/nudd/spectrum.py\u001b[0m in \u001b[0;36mspectrum\u001b[0;34m(self, E_Rs, total, nu)\u001b[0m\n\u001b[1;32m    223\u001b[0m             \u001b[0;32mreturn\u001b[0m \u001b[0mspectrum_nu\u001b[0m\u001b[0;34m\u001b[0m\u001b[0;34m\u001b[0m\u001b[0m\n\u001b[1;32m    224\u001b[0m         \u001b[0;32melse\u001b[0m\u001b[0;34m:\u001b[0m\u001b[0;34m\u001b[0m\u001b[0;34m\u001b[0m\u001b[0m\n\u001b[0;32m--> 225\u001b[0;31m             spectrum = np.array([self._spectrum_nu(E_Rs, key) for key in\n\u001b[0m\u001b[1;32m    226\u001b[0m                                  ['nu_e', 'nu_mu', 'nu_mubar']])\n\u001b[1;32m    227\u001b[0m             \u001b[0msummed_spectrum\u001b[0m \u001b[0;34m=\u001b[0m \u001b[0mspectrum\u001b[0m\u001b[0;34m.\u001b[0m\u001b[0msum\u001b[0m\u001b[0;34m(\u001b[0m\u001b[0maxis\u001b[0m\u001b[0;34m=\u001b[0m\u001b[0;36m0\u001b[0m\u001b[0;34m)\u001b[0m\u001b[0;34m\u001b[0m\u001b[0;34m\u001b[0m\u001b[0m\n",
      "\u001b[0;32m~/Documents/PhD/Projects/nudd/nudd/spectrum.py\u001b[0m in \u001b[0;36m<listcomp>\u001b[0;34m(.0)\u001b[0m\n\u001b[1;32m    223\u001b[0m             \u001b[0;32mreturn\u001b[0m \u001b[0mspectrum_nu\u001b[0m\u001b[0;34m\u001b[0m\u001b[0;34m\u001b[0m\u001b[0m\n\u001b[1;32m    224\u001b[0m         \u001b[0;32melse\u001b[0m\u001b[0;34m:\u001b[0m\u001b[0;34m\u001b[0m\u001b[0;34m\u001b[0m\u001b[0m\n\u001b[0;32m--> 225\u001b[0;31m             spectrum = np.array([self._spectrum_nu(E_Rs, key) for key in\n\u001b[0m\u001b[1;32m    226\u001b[0m                                  ['nu_e', 'nu_mu', 'nu_mubar']])\n\u001b[1;32m    227\u001b[0m             \u001b[0msummed_spectrum\u001b[0m \u001b[0;34m=\u001b[0m \u001b[0mspectrum\u001b[0m\u001b[0;34m.\u001b[0m\u001b[0msum\u001b[0m\u001b[0;34m(\u001b[0m\u001b[0maxis\u001b[0m\u001b[0;34m=\u001b[0m\u001b[0;36m0\u001b[0m\u001b[0;34m)\u001b[0m\u001b[0;34m\u001b[0m\u001b[0;34m\u001b[0m\u001b[0m\n",
      "\u001b[0;32m~/Documents/PhD/Projects/nudd/nudd/spectrum.py\u001b[0m in \u001b[0;36m_spectrum_nu\u001b[0;34m(self, E_Rs, nu)\u001b[0m\n\u001b[1;32m    205\u001b[0m     \u001b[0;32mdef\u001b[0m \u001b[0m_spectrum_nu\u001b[0m\u001b[0;34m(\u001b[0m\u001b[0mself\u001b[0m\u001b[0;34m,\u001b[0m \u001b[0mE_Rs\u001b[0m\u001b[0;34m,\u001b[0m \u001b[0mnu\u001b[0m\u001b[0;34m)\u001b[0m\u001b[0;34m:\u001b[0m\u001b[0;34m\u001b[0m\u001b[0;34m\u001b[0m\u001b[0m\n\u001b[1;32m    206\u001b[0m         \u001b[0;34m\"\"\"Same as above but for specific source.\"\"\"\u001b[0m\u001b[0;34m\u001b[0m\u001b[0;34m\u001b[0m\u001b[0m\n\u001b[0;32m--> 207\u001b[0;31m         \u001b[0mspectrum\u001b[0m \u001b[0;34m=\u001b[0m \u001b[0mself\u001b[0m\u001b[0;34m.\u001b[0m\u001b[0m_rate_nu\u001b[0m\u001b[0;34m(\u001b[0m\u001b[0mE_Rs\u001b[0m\u001b[0;34m,\u001b[0m \u001b[0mnu\u001b[0m\u001b[0;34m)\u001b[0m\u001b[0;34m\u001b[0m\u001b[0;34m\u001b[0m\u001b[0m\n\u001b[0m\u001b[1;32m    208\u001b[0m         \u001b[0;32mreturn\u001b[0m \u001b[0mnp\u001b[0m\u001b[0;34m.\u001b[0m\u001b[0msqueeze\u001b[0m\u001b[0;34m(\u001b[0m\u001b[0mspectrum\u001b[0m\u001b[0;34m)\u001b[0m\u001b[0;34m\u001b[0m\u001b[0;34m\u001b[0m\u001b[0m\n\u001b[1;32m    209\u001b[0m \u001b[0;34m\u001b[0m\u001b[0m\n",
      "\u001b[0;32m~/Documents/PhD/Projects/nudd/nudd/spectrum.py\u001b[0m in \u001b[0;36m_rate_nu\u001b[0;34m(self, E_R, nu)\u001b[0m\n\u001b[1;32m    164\u001b[0m             \u001b[0mE_nu_min\u001b[0m \u001b[0;34m=\u001b[0m \u001b[0mself\u001b[0m\u001b[0;34m.\u001b[0m\u001b[0mnu_minimum_energy\u001b[0m\u001b[0;34m(\u001b[0m\u001b[0mE_R\u001b[0m\u001b[0;34m)\u001b[0m  \u001b[0;31m# Minimum neutrino energy\u001b[0m\u001b[0;34m\u001b[0m\u001b[0;34m\u001b[0m\u001b[0m\n\u001b[1;32m    165\u001b[0m \u001b[0;34m\u001b[0m\u001b[0m\n\u001b[0;32m--> 166\u001b[0;31m         \u001b[0mE_nu_max\u001b[0m \u001b[0;34m=\u001b[0m \u001b[0mcoherent\u001b[0m\u001b[0;34m.\u001b[0m\u001b[0mconfig\u001b[0m\u001b[0;34m.\u001b[0m\u001b[0mM_MU\u001b[0m \u001b[0;34m/\u001b[0m \u001b[0;36m2\u001b[0m\u001b[0;34m\u001b[0m\u001b[0;34m\u001b[0m\u001b[0m\n\u001b[0m\u001b[1;32m    167\u001b[0m \u001b[0;34m\u001b[0m\u001b[0m\n\u001b[1;32m    168\u001b[0m \u001b[0;34m\u001b[0m\u001b[0m\n",
      "\u001b[0;31mAttributeError\u001b[0m: module 'nudd.coherent' has no attribute 'config'"
     ]
    }
   ],
   "source": [
    "detector_sm = Detector(nucleus_ar, **DETECTOR_CONFIGS['ESS'])\n",
    "\n",
    "bin_edges, z=detector_sm.bin_spectrum(E_Rs, None, 10 / 1e6, E_MAX / 1e6)\n",
    "\n",
    "print(bin_edges * 1e6)\n",
    "print(z)\n",
    "\n",
    "plt.figure()\n",
    "\n",
    "plt.bar(bin_edges[:-1:] * 1e6,z,bin_edges[1]* 1e6-bin_edges[0]* 1e6, align='edge')"
   ]
  },
  {
   "cell_type": "code",
   "execution_count": 10,
   "id": "30481547",
   "metadata": {},
   "outputs": [],
   "source": [
    "spectrum_sm = detector_sm.spectrum(E_Rs, nu=None)\n",
    "\n",
    "spectrum_sm_e = detector_sm.spectrum(E_Rs, nu='nu_e')\n",
    "spectrum_sm_mu = detector_sm.spectrum(E_Rs, nu='nu_mu')\n",
    "spectrum_sm_mubar = detector_sm.spectrum(E_Rs, nu='nu_mubar')\n",
    "\n",
    "spectrum_sm = spectrum_sm_e + spectrum_sm_mu + spectrum_sm_mubar  # Equivalent to nu = None"
   ]
  },
  {
   "cell_type": "code",
   "execution_count": 16,
   "id": "2c1cb0c4",
   "metadata": {
    "scrolled": true
   },
   "outputs": [
    {
     "data": {
      "text/plain": [
       "<matplotlib.legend.Legend at 0x7f68a77cd580>"
      ]
     },
     "execution_count": 16,
     "metadata": {},
     "output_type": "execute_result"
    },
    {
     "data": {
      "image/png": "[encoded data removed]",
      "text/plain": [
       "<Figure size 432x288 with 1 Axes>"
      ]
     },
     "metadata": {
      "needs_background": "light"
     },
     "output_type": "display_data"
    }
   ],
   "source": [
    "plt.figure()\n",
    "\n",
    "plt.loglog(E_Rs * 1e6, spectrum_sm, label='Total')\n",
    "plt.loglog(E_Rs * 1e6, spectrum_sm_e, label='e')\n",
    "plt.loglog(E_Rs * 1e6, spectrum_sm_mu, label='mu')\n",
    "plt.loglog(E_Rs * 1e6, spectrum_sm_mubar, label='mubar')\n",
    "\n",
    "plt.legend(frameon=False)"
   ]
  },
  {
   "cell_type": "code",
   "execution_count": 19,
   "id": "e0521121",
   "metadata": {},
   "outputs": [],
   "source": [
    "d = 1e-6\n",
    "m4 = 1e-3\n",
    "\n",
    "nucleus_ar_ndp = deepcopy(nucleus_ar)\n",
    "\n",
    "ndp = NeutrinoDipole(d, m4)\n",
    "\n",
    "nucleus_ar_ndp.update_model(ndp)"
   ]
  },
  {
   "cell_type": "code",
   "execution_count": 20,
   "id": "1f9407a0",
   "metadata": {},
   "outputs": [],
   "source": [
    "detector_bsm = Detector(nucleus_ar_ndp, **DETECTOR_CONFIGS['ESS'])"
   ]
  },
  {
   "cell_type": "code",
   "execution_count": 26,
   "id": "6d0d89a5",
   "metadata": {},
   "outputs": [],
   "source": [
    "spectrum_bsm_mu = detector_bsm.spectrum(E_Rs, nu='nu_mu')\n",
    "spectrum_bsm_mubar = detector_bsm.spectrum(E_Rs, nu='nu_mubar')\n",
    "\n",
    "spectrum_bsm_total = spectrum_sm + spectrum_bsm_mu + spectrum_bsm_mubar"
   ]
  },
  {
   "cell_type": "code",
   "execution_count": 27,
   "id": "a76ee5f6",
   "metadata": {
    "scrolled": true
   },
   "outputs": [
    {
     "data": {
      "text/plain": [
       "<matplotlib.legend.Legend at 0x7f68a6dec520>"
      ]
     },
     "execution_count": 27,
     "metadata": {},
     "output_type": "execute_result"
    },
    {
     "data": {
      "image/png": "[encoded data removed]",
      "text/plain": [
       "<Figure size 432x288 with 1 Axes>"
      ]
     },
     "metadata": {
      "needs_background": "light"
     },
     "output_type": "display_data"
    }
   ],
   "source": [
    "plt.figure()\n",
    "\n",
    "plt.loglog(E_Rs * 1e6, spectrum_sm, label='Total SM')\n",
    "plt.loglog(E_Rs * 1e6, spectrum_bsm_total, label='Total BSM', c='k')\n",
    "plt.loglog(E_Rs * 1e6, spectrum_bsm_mu, label='BSM nu_mu')\n",
    "plt.loglog(E_Rs * 1e6, spectrum_bsm_mubar, label='BSM nu_mubar')\n",
    "\n",
    "plt.legend(frameon=False)"
   ]
  },
  {
   "cell_type": "markdown",
   "id": "3c159816",
   "metadata": {},
   "source": [
    "## GRID ROUTINE"
   ]
  },
  {
   "cell_type": "code",
   "execution_count": null,
   "id": "0f45d972",
   "metadata": {},
   "outputs": [],
   "source": [
    "def stat_sig(detector):\n",
    "    \"\"\"Return the Z significance value of a result. This is how many sigmas\n",
    "    a measured deviation is over the expected statistical fluctuation of the SM\n",
    "    result\n",
    "    \"\"\"\n",
    "    # CHANGE THIS\n",
    "    \n",
    "    stat_sig = detector.sigma_unc\n",
    "    \n",
    "    return (n_bsm - n_sm) / np.sqrt(n_sm)\n",
    "\n",
    "\n",
    "def neutrino_events(detector: Detector, nu=None):\n",
    "    \"\"\"Return total number of expected CEvNS events by integrating spectrum\n",
    "    from E_min to E_max for a particular nucleus\n",
    "    \"\"\"\n",
    "\n",
    "    E_Rs = np.geomspace(detector.threshold, E_MAX, 500) / 1e6  # GeV!\n",
    "    rate = detector.spectrum(E_Rs, nu=nu)  # Rates work in GeV\n",
    "\n",
    "    return np.trapz(rate, E_Rs)"
   ]
  },
  {
   "cell_type": "code",
   "execution_count": null,
   "id": "ff63b644",
   "metadata": {},
   "outputs": [],
   "source": [
    "def grid_routine(detector: Detector, grid_dim=20):\n",
    "    \"\"\"Return an array including the statistical significances over a grid of\n",
    "    masses and couplings, both of which are also returned. Grid dimension is\n",
    "    given by grid_dim.\n",
    "    \"\"\"\n",
    "\n",
    "    m4s = np.logspace(-3, -1, grid_dim)  # Mediator masses in GeV\n",
    "    dip_couplings = np.geomspace(1e-8, 1e-6, grid_dim)  # Couplings\n",
    "    stat_sigs = np.zeros((grid_dim, grid_dim))  # Array to contain sigs\n",
    "\n",
    "    n_sm = neutrino_events(detector, nu='nu_mu')\n",
    "    n_sm += neutrino_events(detector, nu='nu_mubar')\n",
    "    n_sm += neutrino_events(detector, nu='nu_e')\n",
    "    detector_bsm = deepcopy(detector)\n",
    "    # This is the grid scan\n",
    "    print(\"Beginning grid scan...\")\n",
    "    for im4, m4 in tqdm(enumerate(m4s)):\n",
    "        #print(f'At mass {im4 + 1}/{len(m4s)}')\n",
    "        for idip, dip in enumerate(dip_couplings):\n",
    "            dipole_model = models.NeutrinoDipole(dip, m4)\n",
    "            detector_bsm.nucleus.update_model(dipole_model)  # Update the nucleus model\n",
    "\n",
    "            n_bsm = neutrino_events(detector_bsm, nu='nu_mu')  # THIS IS THE BSM-ONLY CONTRIBUTION!!\n",
    "            n_bsm += neutrino_events(detector_bsm, nu='nu_mubar')  # THIS IS THE BSM-ONLY CONTRIBUTION!!\n",
    "\n",
    "            n_bsm_tot = n_bsm + n_sm\n",
    "\n",
    "\n",
    "            stat_sigs[idip, im4] = stat_sig(n_sm, n_bsm_tot)\n",
    "    return stat_sigs, m4s, dip_couplings"
   ]
  },
  {
   "cell_type": "markdown",
   "id": "4a68b503",
   "metadata": {},
   "source": [
    "# Next Steps"
   ]
  },
  {
   "cell_type": "markdown",
   "id": "419bc355",
   "metadata": {},
   "source": [
    "1. COHERENT (Now)\n",
    "    - Include stat and systematic uncertainties in DETECTOR_CONFIGS and Detector\n",
    "    - Define bin_edges within Detector\n",
    "    - Define method within Detector calculating the binned number of events\n",
    "    - Quenching factor (Dorian)\n",
    "    - Incorporate an energy-dependent (E_R) efficiency function at E_R integration level\n",
    "    - Update stat_sig to reflect that $\\chi^2$ minimisation along with $a$ minimisation\n",
    "    - Implement a grid routine across the parameter space\n",
    "    - Likelihood ratios\n",
    "    - Nobel prize (far away but true).\n",
    "    \n",
    "2. DIRECT DETECTION (Dorian)\n",
    "    - Double check spectra (compare with Shoemaker)\n",
    "    - Bin edges, binned events\n",
    "    - Stat analysis:\n",
    "        - Binned log likelihoods\n",
    "        - Unbinned analysis\n",
    "    \n",
    "3. COMBINED ANALYSIS\n",
    "    - Add LOG likelihoods\n",
    "    \n",
    "    \n",
    "4. EXPERIMENTAL ENHANCEMENTS?\n",
    "       \n",
    "       \n",
    "5. MODEL DISCRIMINATION\n",
    "    - What models?"
   ]
  },
  {
   "cell_type": "code",
   "execution_count": null,
   "id": "423117a0",
   "metadata": {},
   "outputs": [],
   "source": []
  }
 ],
 "metadata": {
  "jupytext": {
   "formats": "ipynb,auto:light"
  },
  "kernelspec": {
   "display_name": "Python 3 (ipykernel)",
   "language": "python",
   "name": "python3"
  },
  "language_info": {
   "codemirror_mode": {
    "name": "ipython",
    "version": 3
   },
   "file_extension": ".py",
   "mimetype": "text/x-python",
   "name": "python",
   "nbconvert_exporter": "python",
   "pygments_lexer": "ipython3",
   "version": "3.8.5"
  }
 },
 "nbformat": 4,
 "nbformat_minor": 5
}
