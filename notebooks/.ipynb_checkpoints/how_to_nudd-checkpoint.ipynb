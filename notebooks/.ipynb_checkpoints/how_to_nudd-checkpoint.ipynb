{
 "cells": [
  {
   "cell_type": "code",
   "execution_count": 1,
   "id": "a6470498",
   "metadata": {},
   "outputs": [],
   "source": [
    "%matplotlib inline"
   ]
  },
  {
   "cell_type": "code",
   "execution_count": 2,
   "id": "f3861786",
   "metadata": {},
   "outputs": [],
   "source": [
    "import numpy as np\n",
    "import matplotlib.pyplot as plt\n",
    "import copy"
   ]
  },
  {
   "cell_type": "markdown",
   "id": "ebee0ac6",
   "metadata": {},
   "source": [
    "# How to `nudd`"
   ]
  },
  {
   "cell_type": "markdown",
   "id": "3632bfad",
   "metadata": {},
   "source": [
    "This is a quickstart guide to `nudd`, showcasing some of its useful features. We'll look at how to build a custom target, give it a model, and produce a spectrum from it. Some features not covered here include adding custom efficiency functions and convolving with a resolution kernel.\n",
    "\n",
    "All of the up-to-date code is kept on the `nudd` [github repository](https://github.com/dwpamaral/NuDD). \n",
    "\n",
    "If you find any issues with the code, or if there are places in which you feel it could be improved, please [submit an issue](https://github.com/dwpamaral/NuDD/issues) so that we can keep developing the code!"
   ]
  },
  {
   "cell_type": "markdown",
   "id": "4032aa41",
   "metadata": {},
   "source": [
    "---"
   ]
  },
  {
   "cell_type": "markdown",
   "id": "572312ef",
   "metadata": {},
   "source": [
    "## Installation"
   ]
  },
  {
   "cell_type": "markdown",
   "id": "6d422014",
   "metadata": {},
   "source": [
    "First, we have to download the `nudd` package. If you've got `Git` installed, you can simply clone the repo with \n",
    "\n",
    "```shell\n",
    "git clone https://github.com/dwpamaral/NuDD.git\n",
    "```\n",
    "\n",
    "If not, just download it from the [github repository](https://github.com/dwpamaral/NuDD) and unzip it to your directory of choice.\n",
    "\n",
    "Once you've downloaded the package, install it by running `install.sh`. If this doesn't work, try running the following command in a terminal window **from the directory above where you have downloaded `nudd`**:\n",
    "\n",
    "```shell\n",
    "pip install -e nudd\n",
    "```\n",
    "\n",
    "Make sure that `nudd`'s directory is indeed called nudd for this to work!\n",
    "\n",
    "This will install `nudd` by supplying your Python installation's site-packages directory with a reference to `nudd`'s directory, keeping it constantly updated to changes in the code and allowing you to run it from wherever you are on your system. \n",
    "\n",
    "To test whether you have successfully installed `nudd`, try importing it."
   ]
  },
  {
   "cell_type": "code",
   "execution_count": 3,
   "id": "73ea1a6f",
   "metadata": {},
   "outputs": [],
   "source": [
    "import nudd"
   ]
  },
  {
   "cell_type": "markdown",
   "id": "4d16f56a",
   "metadata": {},
   "source": [
    "If this hasn't screamed at you, you're ready to go!"
   ]
  },
  {
   "cell_type": "markdown",
   "id": "ead89ec0",
   "metadata": {},
   "source": [
    "## Building a Target"
   ]
  },
  {
   "cell_type": "markdown",
   "id": "3f3f9080",
   "metadata": {},
   "source": [
    "**Note: While the below illustrates how to do everything from scratch, I strongly recommend just importing the pre-built objects from the `targets` module, shown at the end of this section. This is a much quicker way of getting a target with all of its desired qualities (e.g. measured nuclear masses, RRPA scaling for xenon, etc.)**\n",
    "\n",
    "Nevertheless, what follows makes their construction explicit for peace-of-mind and demonstrates the behaviour of a `target` object."
   ]
  },
  {
   "cell_type": "markdown",
   "id": "1d04fa52",
   "metadata": {},
   "source": [
    "### Building a Nucleus"
   ]
  },
  {
   "cell_type": "markdown",
   "id": "14caa2dc",
   "metadata": {},
   "source": [
    "Let's build a nucleus to get some CE$\\nu$NS going. We can import the `targets` module to make things a little tidier."
   ]
  },
  {
   "cell_type": "code",
   "execution_count": 4,
   "id": "114055e0",
   "metadata": {},
   "outputs": [],
   "source": [
    "from nudd import targets"
   ]
  },
  {
   "cell_type": "markdown",
   "id": "98809264",
   "metadata": {},
   "source": [
    "A nuclear target is defined by an atomic number, $Z$, and an atomic mass, $A$. Let's build a xenon nucleus with $Z = 54$ and $A = 131$. \n",
    "\n",
    "We could let the mass simply be defined by $A$ times the atomic mass unit $u$ (this is the default behaviour), but we can be a little more accurate by supplying the measured mass of this isotope explicitly. This is already defined for us in `nudd`'s `config` module."
   ]
  },
  {
   "cell_type": "code",
   "execution_count": 5,
   "id": "b12035fa",
   "metadata": {},
   "outputs": [],
   "source": [
    "nucleus_xe = targets.Nucleus(54, 131, mass=nudd.config.mass_xe)"
   ]
  },
  {
   "cell_type": "markdown",
   "id": "3a74e4b2",
   "metadata": {},
   "source": [
    "This nucleus will actually come with the SM fully integrated into it, so we can immediately visualise the SM CE$\\nu$NS spectrum. Let's do this step-by-step to illustrate some key points to watch out for."
   ]
  },
  {
   "cell_type": "markdown",
   "id": "b89aff2e",
   "metadata": {},
   "source": [
    "First, we need to define the recoil energies we would like to see the spectrum for. Let's use a set of 1000 equally log-spaced points between $10^{-1}\\,\\mathrm{keV}$ and $10^{1}\\,\\mathrm{keV}$."
   ]
  },
  {
   "cell_type": "code",
   "execution_count": 6,
   "id": "200190c9",
   "metadata": {},
   "outputs": [],
   "source": [
    "E_Rs = np.logspace(-1, 1, 1000) / 1e6  # Division by 1e6 to convert to GeV"
   ]
  },
  {
   "cell_type": "markdown",
   "id": "99828249",
   "metadata": {},
   "source": [
    "An important feature to notice about the above is the division by `1e6`. We have defined our points in log-space in terms of $\\mathrm{keV}$, **but all of `nudd`'s interface functionality operates with energies in GeV. Always.** If a result comes out looking weird by several orders of magnitude, it's likely that the culprit is an energy scale that is not in GeV! "
   ]
  },
  {
   "cell_type": "markdown",
   "id": "8794f2e7",
   "metadata": {},
   "source": [
    "Now, we can simply feed these energies into our nucleus' `spectrum` method."
   ]
  },
  {
   "cell_type": "code",
   "execution_count": 7,
   "id": "b119b12a",
   "metadata": {},
   "outputs": [],
   "source": [
    "spectrum_nucleus_sm_total = nucleus_xe.spectrum(E_Rs)"
   ]
  },
  {
   "cell_type": "markdown",
   "id": "2d8d1852",
   "metadata": {},
   "source": [
    "By default, this gives us the total, flavour-summed differential rate spectrum. If we want a flavour breakdown of the spectrum, we can override this default behaviour by changing the `total` `kwarg` to `False`."
   ]
  },
  {
   "cell_type": "code",
   "execution_count": 8,
   "id": "7bc7d688",
   "metadata": {},
   "outputs": [],
   "source": [
    "spectrum_nucleus_sm_flavours = nucleus_xe.spectrum(E_Rs, total=False)"
   ]
  },
  {
   "cell_type": "markdown",
   "id": "92228f80",
   "metadata": {},
   "source": [
    "This produces three spectra: one for each flavour. The electron, muon, and tau spectra are respectively given by the zeroth, first, and second rows of the output array."
   ]
  },
  {
   "cell_type": "markdown",
   "id": "76dca1ec",
   "metadata": {},
   "source": [
    "Let's plot."
   ]
  },
  {
   "cell_type": "code",
   "execution_count": 9,
   "id": "304632f5",
   "metadata": {
    "scrolled": false
   },
   "outputs": [
    {
     "data": {
      "image/png": "[encoded data removed]",
      "text/plain": [
       "<Figure size 648x432 with 1 Axes>"
      ]
     },
     "metadata": {
      "needs_background": "light"
     },
     "output_type": "display_data"
    }
   ],
   "source": [
    "plt.figure(figsize=(9,6))\n",
    "\n",
    "plt.loglog(E_Rs*1e6, spectrum_nucleus_sm_total, c='k', label=\"Total\")  # 1e6 to get back to keV recoil energies\n",
    "plt.loglog(E_Rs*1e6, spectrum_nucleus_sm_flavours[0], c='g', alpha=0.5, label=r\"$e$\")\n",
    "plt.loglog(E_Rs*1e6, spectrum_nucleus_sm_flavours[1], c='b', alpha=0.5, label=r\"$\\mu$\")\n",
    "plt.loglog(E_Rs*1e6, spectrum_nucleus_sm_flavours[2], c='r', alpha=0.5, label=r\"$\\tau$\")\n",
    "\n",
    "plt.xlim(E_Rs.min()*1e6, E_Rs.max()*1e6)\n",
    "plt.ylim(1e-5, 1e4)\n",
    "\n",
    "plt.xlabel(r\"$E_R\\,\\mathrm{(keV)}$\")\n",
    "plt.ylabel(r\"$dR/dE_R\\,\\mathrm{(ton^{-1}\\,yr^{-1}\\,keV^{-1})}$\")\n",
    "plt.legend(frameon=False);"
   ]
  },
  {
   "cell_type": "markdown",
   "id": "2b57e33a",
   "metadata": {},
   "source": [
    "### Building an Electron"
   ]
  },
  {
   "cell_type": "markdown",
   "id": "bed16270",
   "metadata": {},
   "source": [
    "To build an electron, we need to give it a nucleus to come from and the binding energies it needs to overcome in order to scatter. We can use our xenon nucleus for the former, but we need to import a data object for the latter from the `bindings` module."
   ]
  },
  {
   "cell_type": "code",
   "execution_count": 10,
   "id": "7e6ff07e",
   "metadata": {},
   "outputs": [],
   "source": [
    "from nudd.binding import binding_xe"
   ]
  },
  {
   "cell_type": "markdown",
   "id": "7fea0f5d",
   "metadata": {},
   "source": [
    "We're almost ready to build, but for xenon we need to supply our electron with an additional RRPA scaling. This scaling is already set up for us in the `rrpa` module. Let's import it."
   ]
  },
  {
   "cell_type": "code",
   "execution_count": 11,
   "id": "3cea4fbe",
   "metadata": {},
   "outputs": [],
   "source": [
    "from nudd.rrpa import rrpa_scaling"
   ]
  },
  {
   "cell_type": "markdown",
   "id": "c5a4a7e6",
   "metadata": {},
   "source": [
    "We're ready to go."
   ]
  },
  {
   "cell_type": "code",
   "execution_count": 12,
   "id": "77fd5a70",
   "metadata": {},
   "outputs": [],
   "source": [
    "electron_xe = targets.Electron(nucleus_xe, binding_xe, scaling=rrpa_scaling)"
   ]
  },
  {
   "cell_type": "markdown",
   "id": "1743073b",
   "metadata": {},
   "source": [
    "And that's it! We can use the electron object in exactly the same way that we can use the nucleus object; they share a common interface.\n",
    "\n",
    "Let's visualise the spectrum by repeating our footsteps from the nuclear case."
   ]
  },
  {
   "cell_type": "code",
   "execution_count": 13,
   "id": "84aaea3a",
   "metadata": {},
   "outputs": [],
   "source": [
    "spectrum_electron_sm_total = electron_xe.spectrum(E_Rs)  # Total spectrum\n",
    "spectrum_electron_sm_flavours = electron_xe.spectrum(E_Rs, total=False)  # Flavour spectrum"
   ]
  },
  {
   "cell_type": "code",
   "execution_count": 14,
   "id": "c706df81",
   "metadata": {},
   "outputs": [
    {
     "data": {
      "image/png": "[encoded data removed]",
      "text/plain": [
       "<Figure size 648x432 with 1 Axes>"
      ]
     },
     "metadata": {
      "needs_background": "light"
     },
     "output_type": "display_data"
    }
   ],
   "source": [
    "plt.figure(figsize=(9,6))\n",
    "\n",
    "plt.loglog(E_Rs*1e6, spectrum_electron_sm_total, c='k', label=\"Total\")  # 1e6 to get back to keV recoil energies\n",
    "plt.loglog(E_Rs*1e6, spectrum_electron_sm_flavours[0], c='g', alpha=0.5, label=r\"$e$\")\n",
    "plt.loglog(E_Rs*1e6, spectrum_electron_sm_flavours[1], c='b', alpha=0.5, label=r\"$\\mu$\")\n",
    "plt.loglog(E_Rs*1e6, spectrum_electron_sm_flavours[2], c='r', alpha=0.5, label=r\"$\\tau$\")\n",
    "\n",
    "plt.xlim(E_Rs.min()*1e6, E_Rs.max()*1e6)\n",
    "plt.ylim(5e-2, 2e1)\n",
    "\n",
    "plt.xlabel(r\"$E_R\\,\\mathrm{(keV)}$\")\n",
    "plt.ylabel(r\"$dR/dE_R\\,\\mathrm{(ton^{-1}\\,yr^{-1}\\,keV^{-1})}$\")\n",
    "plt.legend(frameon=False);"
   ]
  },
  {
   "cell_type": "markdown",
   "id": "dbd55d72",
   "metadata": {},
   "source": [
    "### Importing Pre-built Targets"
   ]
  },
  {
   "cell_type": "markdown",
   "id": "218bf11c",
   "metadata": {},
   "source": [
    "Instead of building these targets from scratch every time we need them, we can just import these objects pre-built from `targets`."
   ]
  },
  {
   "cell_type": "code",
   "execution_count": 15,
   "id": "5252808f",
   "metadata": {},
   "outputs": [],
   "source": [
    "nucleus_xe = targets.nucleus_xe\n",
    "electron_xe = targets.electron_xe"
   ]
  },
  {
   "cell_type": "markdown",
   "id": "b1ad39ff",
   "metadata": {},
   "source": [
    "As easy as that!"
   ]
  },
  {
   "cell_type": "markdown",
   "id": "f26ea7be",
   "metadata": {},
   "source": [
    "## Changing up the Model"
   ]
  },
  {
   "cell_type": "markdown",
   "id": "91326d84",
   "metadata": {},
   "source": [
    "Let's look at something more exciting than the SM. All targets come with an inbuilt `model` object, so if we want to change the model 'acting' on the target, we just have to change the target's `model` attribute. All models are kept in the `models` module. So far, we have functionality for the $L_\\mu - L_\\tau$, $L_\\mu$, and general NSI models.\n",
    "\n",
    "The below is done for our `nucleus_xe`, but, with a simple search and replace to `electron_xe`, you could use it for the electron case."
   ]
  },
  {
   "cell_type": "code",
   "execution_count": 16,
   "id": "440e3836",
   "metadata": {},
   "outputs": [],
   "source": [
    "from nudd import models"
   ]
  },
  {
   "cell_type": "markdown",
   "id": "c70e97ac",
   "metadata": {},
   "source": [
    "### The $L_\\mu - L_\\tau$ Model"
   ]
  },
  {
   "cell_type": "markdown",
   "id": "2e475ece",
   "metadata": {},
   "source": [
    "First, we need to instantiate a new model with all of its model-specific parameters explicitly set. Let's try the $L_\\mu - L_\\tau$ model with the BP1 specs: $g_x = 5 \\times 10^{-4}$ and $m_A = 15\\,\\mathrm{MeV}$."
   ]
  },
  {
   "cell_type": "code",
   "execution_count": 17,
   "id": "4d5e7b32",
   "metadata": {},
   "outputs": [],
   "source": [
    "lmutau_bp1 = models.LMuTau(5e-4, 15e-3)"
   ]
  },
  {
   "cell_type": "markdown",
   "id": "88fba042",
   "metadata": {},
   "source": [
    "Now, we just need to change `nucleus_xe`'s model to `lmutau_bp1`. Before doing so, it's good practice to copy the target object using the `copy` package. This ensures that we don't change any of the attributes of the imported `nucleus_xe` object in case we want to use it again later."
   ]
  },
  {
   "cell_type": "code",
   "execution_count": 18,
   "id": "fe27f1b4",
   "metadata": {},
   "outputs": [],
   "source": [
    "nucleus_xe_lmutau = copy.deepcopy(nucleus_xe)  # deepcopy makes sure we copy over all attributes"
   ]
  },
  {
   "cell_type": "markdown",
   "id": "af029755",
   "metadata": {},
   "source": [
    "And now let's simply change the model."
   ]
  },
  {
   "cell_type": "code",
   "execution_count": 19,
   "id": "5beea00e",
   "metadata": {},
   "outputs": [],
   "source": [
    "nucleus_xe_lmutau.model = lmutau_bp1"
   ]
  },
  {
   "cell_type": "markdown",
   "id": "24291581",
   "metadata": {},
   "source": [
    "That's it! Everything else is exactly the same as before. Let's stick with the total spectrum to not make things messy."
   ]
  },
  {
   "cell_type": "code",
   "execution_count": 20,
   "id": "2ec84a37",
   "metadata": {},
   "outputs": [],
   "source": [
    "spectrum_nucleus_bp1_total = nucleus_xe_lmutau.spectrum(E_Rs)  # Total spectrum"
   ]
  },
  {
   "cell_type": "code",
   "execution_count": 21,
   "id": "d9f58295",
   "metadata": {},
   "outputs": [
    {
     "data": {
      "image/png": "[encoded data removed]",
      "text/plain": [
       "<Figure size 648x432 with 1 Axes>"
      ]
     },
     "metadata": {
      "needs_background": "light"
     },
     "output_type": "display_data"
    }
   ],
   "source": [
    "plt.figure(figsize=(9,6))\n",
    "\n",
    "plt.loglog(E_Rs*1e6, spectrum_nucleus_sm_total, c='k', label=\"SM\")  # SM for comparison\n",
    "plt.loglog(E_Rs*1e6, spectrum_nucleus_bp1_total, ls='--', c='r', label=\"BP1\")\n",
    "\n",
    "plt.xlim(E_Rs.min()*1e6, E_Rs.max()*1e6)\n",
    "plt.ylim(1e0, 1e4)  # Smaller y range!\n",
    "\n",
    "plt.xlabel(r\"$E_R\\,\\mathrm{(keV)}$\")\n",
    "plt.ylabel(r\"$dR/dE_R\\,\\mathrm{(ton^{-1}\\,yr^{-1}\\,keV^{-1})}$\")\n",
    "plt.legend(frameon=False);"
   ]
  },
  {
   "cell_type": "markdown",
   "id": "4cc5751a",
   "metadata": {},
   "source": [
    "### The General NSI Framework"
   ]
  },
  {
   "cell_type": "markdown",
   "id": "7779d019",
   "metadata": {},
   "source": [
    "For the `GeneralNSI` model, we need to give it an $\\varepsilon$ matrix, an angle $\\eta$ in the $p-n$ plane, and an angle $\\phi$ in the $p-e$ plane. "
   ]
  },
  {
   "cell_type": "markdown",
   "id": "f4f4724f",
   "metadata": {},
   "source": [
    "Let's define a simple $\\varepsilon$ matrix just to show how this works. We'll give the general model an $L_\\mu - L_\\tau$ - esque matrix."
   ]
  },
  {
   "cell_type": "code",
   "execution_count": 22,
   "id": "164244e7",
   "metadata": {},
   "outputs": [],
   "source": [
    "eps = np.array([[0., 0., 0.],\n",
    "                [0., 0.2, 0.],\n",
    "                [0., 0., -0.2]])"
   ]
  },
  {
   "cell_type": "markdown",
   "id": "4bb47b2e",
   "metadata": {},
   "source": [
    "For $\\eta$ and $\\phi$, let's keep things simple and set them both to zero (but do play around with these!)."
   ]
  },
  {
   "cell_type": "code",
   "execution_count": 23,
   "id": "fd2a4e90",
   "metadata": {},
   "outputs": [],
   "source": [
    "nsi = models.GeneralNSI(eps, eta=0., phi=0.)  # Try setting phi=np.pi/2 with eta=0."
   ]
  },
  {
   "cell_type": "markdown",
   "id": "d4bbfef5",
   "metadata": {},
   "source": [
    "And we proceed as before: copy the SM target, change the model, and generate the spectrum."
   ]
  },
  {
   "cell_type": "code",
   "execution_count": 24,
   "id": "6aebafac",
   "metadata": {},
   "outputs": [],
   "source": [
    "nucleus_xe_nsi = copy.deepcopy(nucleus_xe)\n",
    "nucleus_xe_nsi.model = nsi\n",
    "\n",
    "spectrum_nucleus_nsi_total = nucleus_xe_nsi.spectrum(E_Rs)"
   ]
  },
  {
   "cell_type": "markdown",
   "id": "160e97a6",
   "metadata": {},
   "source": [
    "And we plot."
   ]
  },
  {
   "cell_type": "code",
   "execution_count": 25,
   "id": "58423b4a",
   "metadata": {},
   "outputs": [
    {
     "data": {
      "image/png": "[encoded data removed]",
      "text/plain": [
       "<Figure size 648x432 with 1 Axes>"
      ]
     },
     "metadata": {
      "needs_background": "light"
     },
     "output_type": "display_data"
    }
   ],
   "source": [
    "plt.figure(figsize=(9,6))\n",
    "\n",
    "plt.loglog(E_Rs*1e6, spectrum_nucleus_sm_total, c='k', label=\"SM\")  # SM for comparison\n",
    "plt.loglog(E_Rs*1e6, spectrum_nucleus_nsi_total, ls='--', c='r', label=\"BP1\")\n",
    "\n",
    "plt.xlim(E_Rs.min()*1e6, E_Rs.max()*1e6)\n",
    "plt.ylim(1e0, 1e4)  # Smaller y range!\n",
    "\n",
    "plt.xlabel(r\"$E_R\\,\\mathrm{(keV)}$\")\n",
    "plt.ylabel(r\"$dR/dE_R\\,\\mathrm{(ton^{-1}\\,yr^{-1}\\,keV^{-1})}$\")\n",
    "plt.legend(frameon=False);"
   ]
  }
 ],
 "metadata": {
  "jupytext": {
   "formats": "ipynb,auto:light"
  },
  "kernelspec": {
   "display_name": "Python 3 (ipykernel)",
   "language": "python",
   "name": "python3"
  },
  "language_info": {
   "codemirror_mode": {
    "name": "ipython",
    "version": 3
   },
   "file_extension": ".py",
   "mimetype": "text/x-python",
   "name": "python",
   "nbconvert_exporter": "python",
   "pygments_lexer": "ipython3",
   "version": "3.8.5"
  },
  "toc": {
   "base_numbering": 1,
   "nav_menu": {
    "height": "116px",
    "width": "186px"
   },
   "number_sections": true,
   "sideBar": true,
   "skip_h1_title": true,
   "title_cell": "Table of Contents",
   "title_sidebar": "Contents",
   "toc_cell": true,
   "toc_position": {},
   "toc_section_display": true,
   "toc_window_display": false
  }
 },
 "nbformat": 4,
 "nbformat_minor": 5
}
