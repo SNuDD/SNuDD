{
 "cells": [
  {
   "cell_type": "markdown",
   "id": "7ecdb526-70b0-400d-acd6-cd0d26ff6508",
   "metadata": {},
   "source": [
    "### Sensitivity limits for LZ (2022) and XENONnT (2022)\n",
    "\n",
    "Here we show how to perform a grid scan of NSI parameters. For the sake of time, we show how to do a 1-binned analysis and with only on xenon isotope.  "
   ]
  },
  {
   "cell_type": "code",
   "execution_count": 1,
   "id": "146bb83e-4ba0-42fd-a419-e0a20bf6c894",
   "metadata": {},
   "outputs": [],
   "source": [
    "import numpy as np\n",
    "\n",
    "from snudd import config\n",
    "from snudd.targets import Electron\n",
    "from snudd.binding import binding_xe\n",
    "from snudd.rrpa import rrpa_scaling\n",
    "from snudd.targets import Nucleus\n",
    "\n",
    "\n",
    "from snudd.models import GeneralNSI\n",
    "\n",
    "from snudd.resolution import Resolution, Convolver # deals with the resolution effects on the rate\n",
    "\n",
    "\n",
    "from snudd.efficiencies import efficiency_xnt_er_22 # efficiency curve from arxiv.org:2207.11330\n",
    "from snudd.resolution import res_xnt_er\n",
    "\n",
    "from snudd.efficiencies import efficiency_lz_nr, efficiency_lz_nr_22 # efficiency curve from arxiv:2207.03764\n",
    "from snudd.resolution import res_lz_nr\n"
   ]
  },
  {
   "cell_type": "code",
   "execution_count": 2,
   "id": "83681210-0710-4f8f-bc62-a473c2e04a79",
   "metadata": {},
   "outputs": [],
   "source": [
    "phispace = np.linspace(-np.pi/2, np.pi/2,5) # phi domain\n",
    "eps_space = np.linspace(3.0, -3.0, 5) # epsilon domain\n"
   ]
  },
  {
   "cell_type": "code",
   "execution_count": 3,
   "id": "ad7af081-cc0c-458b-bac6-d85f4351c7fc",
   "metadata": {},
   "outputs": [],
   "source": [
    "phiGrid, epsGrid = np.meshgrid(phispace, eps_space, indexing='ij')\n"
   ]
  },
  {
   "cell_type": "code",
   "execution_count": 4,
   "id": "727370e6-e432-4175-ba4a-93a7c14f55d2",
   "metadata": {},
   "outputs": [],
   "source": [
    "def counts_LZ22_NR(signal, E_Rs):\n",
    "    exposure = 60*(1/365.25)*5.5 # in tn yr-1\n",
    "    acceptance_cut = 0.9\n",
    "    convolution_lz_sig = Convolver(E_Rs, signal , efficiency_lz_nr_22, res_lz_nr)\n",
    "    return convolution_lz_sig.convolved_binned_rate(1.0e-7, 1.5e-5)*exposure*acceptance_cut"
   ]
  },
  {
   "cell_type": "code",
   "execution_count": 5,
   "id": "e71dfeee-e2f9-4156-952d-5677ec3e4ef4",
   "metadata": {},
   "outputs": [],
   "source": [
    "def counts_xnt_ER(signal, E_Rs):\n",
    "    exposure = 1.16 # in tn yr-1\n",
    "    acceptance_cut = 0.91  # 91% is quoted in 2207.11330\n",
    "    convolution_xnt_sig= Convolver(E_Rs, signal , efficiency_xnt_er_22, res_xnt_er)\n",
    "    \n",
    "    return convolution_xnt_sig.convolved_binned_rate(1.0e-7, 3.0e-5)*exposure*acceptance_cut"
   ]
  },
  {
   "cell_type": "code",
   "execution_count": 6,
   "id": "e0d2eb20-5bf5-4365-a766-39dca554b88a",
   "metadata": {},
   "outputs": [],
   "source": [
    "from tqdm import tqdm"
   ]
  },
  {
   "cell_type": "code",
   "execution_count": 7,
   "id": "01f81074-5717-414e-9876-4b5c6987ec57",
   "metadata": {},
   "outputs": [],
   "source": [
    "Xe_nucleus = Nucleus(54, 132, mass=131.9041535 * config.u) # only do one isotope for this example \n",
    "Xe_electron = Electron(Xe_nucleus, binding_xe, rrpa_scaling)\n"
   ]
  },
  {
   "cell_type": "code",
   "execution_count": 8,
   "id": "884d376c-d0cf-45dd-be8d-d37dafa78171",
   "metadata": {},
   "outputs": [],
   "source": [
    "E_Rs = np.logspace(-2, 2, 1000) / 1e6  # Recoil energy in GeV, needed for the convolution to be broader than the bin considered\n"
   ]
  },
  {
   "cell_type": "code",
   "execution_count": 9,
   "id": "e9fbcb3f-146e-4d2d-9018-157cf364e40a",
   "metadata": {},
   "outputs": [],
   "source": [
    "N_xnt22 = np.zeros(np.shape(phiGrid))\n",
    "N_LZ = np.zeros(np.shape(phiGrid))"
   ]
  },
  {
   "cell_type": "markdown",
   "id": "126ad45d-152d-4d6d-a650-7446f1914b3c",
   "metadata": {},
   "source": [
    "Below we calculate the ER and NR counts for each grid point. Because there are some large NSI parameters in the grid, SNuDD warns you the adiabatic apprximation may not be valid. "
   ]
  },
  {
   "cell_type": "code",
   "execution_count": 10,
   "id": "1964a8b7-402b-41e4-a07b-59494a2239b4",
   "metadata": {
    "scrolled": true,
    "tags": []
   },
   "outputs": [
    {
     "name": "stderr",
     "output_type": "stream",
     "text": [
      "  0%|                                                                                             | 0/5 [00:00<?, ?it/s]/tmp/ipykernel_410/2561707893.py:23: ComplexWarning: Casting complex values to real discards the imaginary part\n",
      "  N_LZ[i,j] = counts_LZ22_NR(np.array(tmp_spec_NR).T, E_Rs )\n",
      "/tmp/ipykernel_410/2561707893.py:24: ComplexWarning: Casting complex values to real discards the imaginary part\n",
      "  N_xnt22[i,j]= counts_xnt_ER(np.array(tmp_spec_ER).T, E_Rs)\n",
      "100%|█████████████████████████████████████████████████████████████████████████████████████| 5/5 [02:06<00:00, 25.32s/it]\n"
     ]
    }
   ],
   "source": [
    "for i in tqdm(range(len(phispace))):\n",
    "    for j in range(len(eps_space)):\n",
    "        \n",
    "        NSI_matrix_tmp = np.array([[0, 1.0, 0],\n",
    "                                   [1.0, 0.0, 0.0],\n",
    "                                   [0, 0.0, 0.0]])*epsGrid[i,j]\n",
    "\n",
    "        NSI_eta = 0.0\n",
    "        NSI_phi_tmp = phiGrid[i,j]\n",
    "\n",
    "        NSI_model_tmp = GeneralNSI(NSI_matrix_tmp, NSI_eta, NSI_phi_tmp)\n",
    "        \n",
    "        Xe_electron.update_model(NSI_model_tmp)\n",
    "        Xe_nucleus.update_model(NSI_model_tmp)\n",
    "        \n",
    "        \n",
    "        Xe_electron.prepare_density()\n",
    "        Xe_nucleus.prepare_density()\n",
    "\n",
    "        tmp_spec_NR = Xe_nucleus.spectrum(E_Rs)\n",
    "        tmp_spec_ER = Xe_electron.spectrum(E_Rs)\n",
    "        \n",
    "        N_LZ[i,j] = counts_LZ22_NR(np.array(tmp_spec_NR).T, E_Rs )\n",
    "        N_xnt22[i,j]= counts_xnt_ER(np.array(tmp_spec_ER).T, E_Rs)\n",
    "        "
   ]
  },
  {
   "cell_type": "code",
   "execution_count": 11,
   "id": "a047204d-3180-4dd9-b835-e9b8052a970e",
   "metadata": {},
   "outputs": [],
   "source": [
    "import matplotlib.pyplot as plt"
   ]
  },
  {
   "cell_type": "markdown",
   "id": "d71c9961-161b-4bcd-8bef-92617f69ad87",
   "metadata": {},
   "source": [
    "Without performing any statistical analysis, we can plot contours for the number of recoils that are more than the expected amount from the SM \n",
    "\n",
    "According to [LZ](https://arxiv.org/pdf/2207.03764.pdf), the expected nuclear recoil was $0.14$, so we draw a line at $2.3$ which is allowed for the 90% C.L. fluctuation. \n",
    "\n",
    "According to [XENONnT](https://arxiv.org/pdf/2207.11330.pdf), they expected $300$ electronic recoils. We draw a line indicating $300 + \\sqrt{300}$, understanding that this is *not* a replacement for proper statistical analysis which accounts for the backgrounds present as described in [our paper](https://arxiv.org/pdf/2302.12846.pdf)."
   ]
  },
  {
   "cell_type": "code",
   "execution_count": 12,
   "id": "af82f004-4446-40ed-8132-fb974c4f37ea",
   "metadata": {},
   "outputs": [
    {
     "data": {
      "text/plain": [
       "<matplotlib.contour.QuadContourSet at 0x7f2c405cae80>"
      ]
     },
     "execution_count": 12,
     "metadata": {},
     "output_type": "execute_result"
    },
    {
     "data": {
      "image/png": "[encoded data removed]",
      "text/plain": [
       "<Figure size 432x288 with 1 Axes>"
      ]
     },
     "metadata": {
      "needs_background": "light"
     },
     "output_type": "display_data"
    }
   ],
   "source": [
    "plt.contourf(phiGrid, epsGrid, N_LZ, levels=[2.3,np.infty], colors='tab:blue', alpha=0.3) \n",
    "plt.contour(phiGrid, epsGrid, N_LZ, levels=[2.3], colors='tab:blue') \n",
    "plt.contourf(phiGrid, epsGrid, N_xnt22, levels=[300.0+np.sqrt(300), np.infty], colors='tab:orange', alpha=0.3)\n",
    "plt.contour(phiGrid, epsGrid, N_xnt22, levels=[ 300.0+np.sqrt(300)], colors='tab:orange')"
   ]
  },
  {
   "cell_type": "code",
   "execution_count": null,
   "id": "6cd98184-453d-4909-b015-9546d69ac0ac",
   "metadata": {},
   "outputs": [],
   "source": []
  }
 ],
 "metadata": {
  "kernelspec": {
   "display_name": "Python 3 (ipykernel)",
   "language": "python",
   "name": "python3"
  },
  "language_info": {
   "codemirror_mode": {
    "name": "ipython",
    "version": 3
   },
   "file_extension": ".py",
   "mimetype": "text/x-python",
   "name": "python",
   "nbconvert_exporter": "python",
   "pygments_lexer": "ipython3",
   "version": "3.9.11"
  }
 },
 "nbformat": 4,
 "nbformat_minor": 5
}
